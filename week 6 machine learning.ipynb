{
    "cells": [
        {
            "cell_type": "markdown",
            "metadata": {
                "button": false,
                "new_sheet": false,
                "run_control": {
                    "read_only": false
                }
            },
            "source": "<a href=\"https://www.bigdatauniversity.com\"><img src=\"https://ibm.box.com/shared/static/cw2c7r3o20w9zn8gkecaeyjhgw3xdgbj.png\" width=\"400\" align=\"center\"></a>\n\n<h1 align=\"center\"><font size=\"5\">Classification with Python</font></h1>"
        },
        {
            "cell_type": "markdown",
            "metadata": {
                "button": false,
                "new_sheet": false,
                "run_control": {
                    "read_only": false
                }
            },
            "source": "In this notebook we try to practice all the classification algorithms that we learned in this course.\n\nWe load a dataset using Pandas library, and apply the following algorithms, and find the best one for this specific dataset by accuracy evaluation methods.\n\nLets first load required libraries:"
        },
        {
            "cell_type": "code",
            "execution_count": 1,
            "metadata": {
                "button": false,
                "new_sheet": false,
                "run_control": {
                    "read_only": false
                }
            },
            "outputs": [],
            "source": "import itertools\nimport numpy as np\nimport matplotlib.pyplot as plt\nfrom matplotlib.ticker import NullFormatter\nimport pandas as pd\nimport numpy as np\nimport matplotlib.ticker as ticker\nfrom sklearn import preprocessing\n%matplotlib inline"
        },
        {
            "cell_type": "markdown",
            "metadata": {
                "button": false,
                "new_sheet": false,
                "run_control": {
                    "read_only": false
                }
            },
            "source": "### About dataset"
        },
        {
            "cell_type": "markdown",
            "metadata": {
                "button": false,
                "new_sheet": false,
                "run_control": {
                    "read_only": false
                }
            },
            "source": "This dataset is about past loans. The __Loan_train.csv__ data set includes details of 346 customers whose loan are already paid off or defaulted. It includes following fields:\n\n| Field          | Description                                                                           |\n|----------------|---------------------------------------------------------------------------------------|\n| Loan_status    | Whether a loan is paid off on in collection                                           |\n| Principal      | Basic principal loan amount at the                                                    |\n| Terms          | Origination terms which can be weekly (7 days), biweekly, and monthly payoff schedule |\n| Effective_date | When the loan got originated and took effects                                         |\n| Due_date       | Since it\u2019s one-time payoff schedule, each loan has one single due date                |\n| Age            | Age of applicant                                                                      |\n| Education      | Education of applicant                                                                |\n| Gender         | The gender of applicant                                                               |"
        },
        {
            "cell_type": "markdown",
            "metadata": {
                "button": false,
                "new_sheet": false,
                "run_control": {
                    "read_only": false
                }
            },
            "source": "Lets download the dataset"
        },
        {
            "cell_type": "code",
            "execution_count": 2,
            "metadata": {
                "button": false,
                "new_sheet": false,
                "run_control": {
                    "read_only": false
                }
            },
            "outputs": [
                {
                    "name": "stdout",
                    "output_type": "stream",
                    "text": "--2020-07-28 06:06:02--  https://s3-api.us-geo.objectstorage.softlayer.net/cf-courses-data/CognitiveClass/ML0101ENv3/labs/loan_train.csv\nResolving s3-api.us-geo.objectstorage.softlayer.net (s3-api.us-geo.objectstorage.softlayer.net)... 67.228.254.196\nConnecting to s3-api.us-geo.objectstorage.softlayer.net (s3-api.us-geo.objectstorage.softlayer.net)|67.228.254.196|:443... connected.\nHTTP request sent, awaiting response... 200 OK\nLength: 23101 (23K) [text/csv]\nSaving to: \u2018loan_train.csv\u2019\n\n100%[======================================>] 23,101      --.-K/s   in 0.001s  \n\n2020-07-28 06:06:02 (16.7 MB/s) - \u2018loan_train.csv\u2019 saved [23101/23101]\n\n"
                }
            ],
            "source": "!wget -O loan_train.csv https://s3-api.us-geo.objectstorage.softlayer.net/cf-courses-data/CognitiveClass/ML0101ENv3/labs/loan_train.csv"
        },
        {
            "cell_type": "markdown",
            "metadata": {
                "button": false,
                "new_sheet": false,
                "run_control": {
                    "read_only": false
                }
            },
            "source": "### Load Data From CSV File  "
        },
        {
            "cell_type": "code",
            "execution_count": 3,
            "metadata": {
                "button": false,
                "new_sheet": false,
                "run_control": {
                    "read_only": false
                }
            },
            "outputs": [
                {
                    "data": {
                        "text/html": "<div>\n<style scoped>\n    .dataframe tbody tr th:only-of-type {\n        vertical-align: middle;\n    }\n\n    .dataframe tbody tr th {\n        vertical-align: top;\n    }\n\n    .dataframe thead th {\n        text-align: right;\n    }\n</style>\n<table border=\"1\" class=\"dataframe\">\n  <thead>\n    <tr style=\"text-align: right;\">\n      <th></th>\n      <th>Unnamed: 0</th>\n      <th>Unnamed: 0.1</th>\n      <th>loan_status</th>\n      <th>Principal</th>\n      <th>terms</th>\n      <th>effective_date</th>\n      <th>due_date</th>\n      <th>age</th>\n      <th>education</th>\n      <th>Gender</th>\n    </tr>\n  </thead>\n  <tbody>\n    <tr>\n      <th>0</th>\n      <td>0</td>\n      <td>0</td>\n      <td>PAIDOFF</td>\n      <td>1000</td>\n      <td>30</td>\n      <td>9/8/2016</td>\n      <td>10/7/2016</td>\n      <td>45</td>\n      <td>High School or Below</td>\n      <td>male</td>\n    </tr>\n    <tr>\n      <th>1</th>\n      <td>2</td>\n      <td>2</td>\n      <td>PAIDOFF</td>\n      <td>1000</td>\n      <td>30</td>\n      <td>9/8/2016</td>\n      <td>10/7/2016</td>\n      <td>33</td>\n      <td>Bechalor</td>\n      <td>female</td>\n    </tr>\n    <tr>\n      <th>2</th>\n      <td>3</td>\n      <td>3</td>\n      <td>PAIDOFF</td>\n      <td>1000</td>\n      <td>15</td>\n      <td>9/8/2016</td>\n      <td>9/22/2016</td>\n      <td>27</td>\n      <td>college</td>\n      <td>male</td>\n    </tr>\n    <tr>\n      <th>3</th>\n      <td>4</td>\n      <td>4</td>\n      <td>PAIDOFF</td>\n      <td>1000</td>\n      <td>30</td>\n      <td>9/9/2016</td>\n      <td>10/8/2016</td>\n      <td>28</td>\n      <td>college</td>\n      <td>female</td>\n    </tr>\n    <tr>\n      <th>4</th>\n      <td>6</td>\n      <td>6</td>\n      <td>PAIDOFF</td>\n      <td>1000</td>\n      <td>30</td>\n      <td>9/9/2016</td>\n      <td>10/8/2016</td>\n      <td>29</td>\n      <td>college</td>\n      <td>male</td>\n    </tr>\n  </tbody>\n</table>\n</div>",
                        "text/plain": "   Unnamed: 0  Unnamed: 0.1 loan_status  Principal  terms effective_date  \\\n0           0             0     PAIDOFF       1000     30       9/8/2016   \n1           2             2     PAIDOFF       1000     30       9/8/2016   \n2           3             3     PAIDOFF       1000     15       9/8/2016   \n3           4             4     PAIDOFF       1000     30       9/9/2016   \n4           6             6     PAIDOFF       1000     30       9/9/2016   \n\n    due_date  age             education  Gender  \n0  10/7/2016   45  High School or Below    male  \n1  10/7/2016   33              Bechalor  female  \n2  9/22/2016   27               college    male  \n3  10/8/2016   28               college  female  \n4  10/8/2016   29               college    male  "
                    },
                    "execution_count": 3,
                    "metadata": {},
                    "output_type": "execute_result"
                }
            ],
            "source": "df = pd.read_csv('loan_train.csv')\ndf.head()"
        },
        {
            "cell_type": "code",
            "execution_count": 4,
            "metadata": {},
            "outputs": [
                {
                    "data": {
                        "text/plain": "(346, 10)"
                    },
                    "execution_count": 4,
                    "metadata": {},
                    "output_type": "execute_result"
                }
            ],
            "source": "df.shape"
        },
        {
            "cell_type": "markdown",
            "metadata": {
                "button": false,
                "new_sheet": false,
                "run_control": {
                    "read_only": false
                }
            },
            "source": "### Convert to date time object "
        },
        {
            "cell_type": "code",
            "execution_count": 5,
            "metadata": {
                "button": false,
                "new_sheet": false,
                "run_control": {
                    "read_only": false
                }
            },
            "outputs": [
                {
                    "data": {
                        "text/html": "<div>\n<style scoped>\n    .dataframe tbody tr th:only-of-type {\n        vertical-align: middle;\n    }\n\n    .dataframe tbody tr th {\n        vertical-align: top;\n    }\n\n    .dataframe thead th {\n        text-align: right;\n    }\n</style>\n<table border=\"1\" class=\"dataframe\">\n  <thead>\n    <tr style=\"text-align: right;\">\n      <th></th>\n      <th>Unnamed: 0</th>\n      <th>Unnamed: 0.1</th>\n      <th>loan_status</th>\n      <th>Principal</th>\n      <th>terms</th>\n      <th>effective_date</th>\n      <th>due_date</th>\n      <th>age</th>\n      <th>education</th>\n      <th>Gender</th>\n    </tr>\n  </thead>\n  <tbody>\n    <tr>\n      <th>0</th>\n      <td>0</td>\n      <td>0</td>\n      <td>PAIDOFF</td>\n      <td>1000</td>\n      <td>30</td>\n      <td>2016-09-08</td>\n      <td>2016-10-07</td>\n      <td>45</td>\n      <td>High School or Below</td>\n      <td>male</td>\n    </tr>\n    <tr>\n      <th>1</th>\n      <td>2</td>\n      <td>2</td>\n      <td>PAIDOFF</td>\n      <td>1000</td>\n      <td>30</td>\n      <td>2016-09-08</td>\n      <td>2016-10-07</td>\n      <td>33</td>\n      <td>Bechalor</td>\n      <td>female</td>\n    </tr>\n    <tr>\n      <th>2</th>\n      <td>3</td>\n      <td>3</td>\n      <td>PAIDOFF</td>\n      <td>1000</td>\n      <td>15</td>\n      <td>2016-09-08</td>\n      <td>2016-09-22</td>\n      <td>27</td>\n      <td>college</td>\n      <td>male</td>\n    </tr>\n    <tr>\n      <th>3</th>\n      <td>4</td>\n      <td>4</td>\n      <td>PAIDOFF</td>\n      <td>1000</td>\n      <td>30</td>\n      <td>2016-09-09</td>\n      <td>2016-10-08</td>\n      <td>28</td>\n      <td>college</td>\n      <td>female</td>\n    </tr>\n    <tr>\n      <th>4</th>\n      <td>6</td>\n      <td>6</td>\n      <td>PAIDOFF</td>\n      <td>1000</td>\n      <td>30</td>\n      <td>2016-09-09</td>\n      <td>2016-10-08</td>\n      <td>29</td>\n      <td>college</td>\n      <td>male</td>\n    </tr>\n  </tbody>\n</table>\n</div>",
                        "text/plain": "   Unnamed: 0  Unnamed: 0.1 loan_status  Principal  terms effective_date  \\\n0           0             0     PAIDOFF       1000     30     2016-09-08   \n1           2             2     PAIDOFF       1000     30     2016-09-08   \n2           3             3     PAIDOFF       1000     15     2016-09-08   \n3           4             4     PAIDOFF       1000     30     2016-09-09   \n4           6             6     PAIDOFF       1000     30     2016-09-09   \n\n    due_date  age             education  Gender  \n0 2016-10-07   45  High School or Below    male  \n1 2016-10-07   33              Bechalor  female  \n2 2016-09-22   27               college    male  \n3 2016-10-08   28               college  female  \n4 2016-10-08   29               college    male  "
                    },
                    "execution_count": 5,
                    "metadata": {},
                    "output_type": "execute_result"
                }
            ],
            "source": "df['due_date'] = pd.to_datetime(df['due_date'])\ndf['effective_date'] = pd.to_datetime(df['effective_date'])\ndf.head()"
        },
        {
            "cell_type": "markdown",
            "metadata": {
                "button": false,
                "new_sheet": false,
                "run_control": {
                    "read_only": false
                }
            },
            "source": "# Data visualization and pre-processing\n\n"
        },
        {
            "cell_type": "markdown",
            "metadata": {
                "button": false,
                "new_sheet": false,
                "run_control": {
                    "read_only": false
                }
            },
            "source": "Let\u2019s see how many of each class is in our data set "
        },
        {
            "cell_type": "code",
            "execution_count": 6,
            "metadata": {
                "button": false,
                "new_sheet": false,
                "run_control": {
                    "read_only": false
                }
            },
            "outputs": [
                {
                    "data": {
                        "text/plain": "PAIDOFF       260\nCOLLECTION     86\nName: loan_status, dtype: int64"
                    },
                    "execution_count": 6,
                    "metadata": {},
                    "output_type": "execute_result"
                }
            ],
            "source": "df['loan_status'].value_counts()"
        },
        {
            "cell_type": "markdown",
            "metadata": {
                "button": false,
                "new_sheet": false,
                "run_control": {
                    "read_only": false
                }
            },
            "source": "260 people have paid off the loan on time while 86 have gone into collection \n"
        },
        {
            "cell_type": "markdown",
            "metadata": {},
            "source": "Lets plot some columns to underestand data better:"
        },
        {
            "cell_type": "code",
            "execution_count": 7,
            "metadata": {},
            "outputs": [
                {
                    "name": "stdout",
                    "output_type": "stream",
                    "text": "Solving environment: done\n\n## Package Plan ##\n\n  environment location: /opt/conda/envs/Python36\n\n  added / updated specs: \n    - seaborn\n\n\nThe following packages will be downloaded:\n\n    package                    |            build\n    ---------------------------|-----------------\n    openssl-1.1.1g             |       h7b6447c_0         3.8 MB  anaconda\n    certifi-2020.6.20          |           py36_0         160 KB  anaconda\n    seaborn-0.10.1             |             py_0         160 KB  anaconda\n    ca-certificates-2020.6.24  |                0         133 KB  anaconda\n    ------------------------------------------------------------\n                                           Total:         4.2 MB\n\nThe following packages will be UPDATED:\n\n    ca-certificates: 2020.6.24-0        --> 2020.6.24-0       anaconda\n    certifi:         2020.6.20-py36_0   --> 2020.6.20-py36_0  anaconda\n    openssl:         1.1.1g-h7b6447c_0  --> 1.1.1g-h7b6447c_0 anaconda\n    seaborn:         0.9.0-pyh91ea838_1 --> 0.10.1-py_0       anaconda\n\n\nDownloading and Extracting Packages\nopenssl-1.1.1g       | 3.8 MB    | ##################################### | 100% \ncertifi-2020.6.20    | 160 KB    | ##################################### | 100% \nseaborn-0.10.1       | 160 KB    | ##################################### | 100% \nca-certificates-2020 | 133 KB    | ##################################### | 100% \nPreparing transaction: done\nVerifying transaction: done\nExecuting transaction: done\n"
                }
            ],
            "source": "# notice: installing seaborn might takes a few minutes\n!conda install -c anaconda seaborn -y"
        },
        {
            "cell_type": "code",
            "execution_count": 8,
            "metadata": {},
            "outputs": [
                {
                    "data": {
                        "image/png": "[encoded data removed]",
                        "text/plain": "<Figure size 432x216 with 2 Axes>"
                    },
                    "metadata": {
                        "needs_background": "light"
                    },
                    "output_type": "display_data"
                }
            ],
            "source": "import seaborn as sns\n\nbins = np.linspace(df.Principal.min(), df.Principal.max(), 10)\ng = sns.FacetGrid(df, col=\"Gender\", hue=\"loan_status\", palette=\"Set1\", col_wrap=2)\ng.map(plt.hist, 'Principal', bins=bins, ec=\"k\")\n\ng.axes[-1].legend()\nplt.show()"
        },
        {
            "cell_type": "code",
            "execution_count": 9,
            "metadata": {
                "button": false,
                "new_sheet": false,
                "run_control": {
                    "read_only": false
                }
            },
            "outputs": [
                {
                    "data": {
                        "image/png": "[encoded data removed]",
                        "text/plain": "<Figure size 432x216 with 2 Axes>"
                    },
                    "metadata": {
                        "needs_background": "light"
                    },
                    "output_type": "display_data"
                }
            ],
            "source": "bins = np.linspace(df.age.min(), df.age.max(), 10)\ng = sns.FacetGrid(df, col=\"Gender\", hue=\"loan_status\", palette=\"Set1\", col_wrap=2)\ng.map(plt.hist, 'age', bins=bins, ec=\"k\")\n\ng.axes[-1].legend()\nplt.show()"
        },
        {
            "cell_type": "markdown",
            "metadata": {
                "button": false,
                "new_sheet": false,
                "run_control": {
                    "read_only": false
                }
            },
            "source": "# Pre-processing:  Feature selection/extraction"
        },
        {
            "cell_type": "markdown",
            "metadata": {
                "button": false,
                "new_sheet": false,
                "run_control": {
                    "read_only": false
                }
            },
            "source": "### Lets look at the day of the week people get the loan "
        },
        {
            "cell_type": "code",
            "execution_count": 10,
            "metadata": {
                "button": false,
                "new_sheet": false,
                "run_control": {
                    "read_only": false
                }
            },
            "outputs": [
                {
                    "data": {
                        "image/png": "[encoded data removed]",
                        "text/plain": "<Figure size 432x216 with 2 Axes>"
                    },
                    "metadata": {
                        "needs_background": "light"
                    },
                    "output_type": "display_data"
                }
            ],
            "source": "df['dayofweek'] = df['effective_date'].dt.dayofweek\nbins = np.linspace(df.dayofweek.min(), df.dayofweek.max(), 10)\ng = sns.FacetGrid(df, col=\"Gender\", hue=\"loan_status\", palette=\"Set1\", col_wrap=2)\ng.map(plt.hist, 'dayofweek', bins=bins, ec=\"k\")\ng.axes[-1].legend()\nplt.show()\n"
        },
        {
            "cell_type": "markdown",
            "metadata": {
                "button": false,
                "new_sheet": false,
                "run_control": {
                    "read_only": false
                }
            },
            "source": "We see that people who get the loan at the end of the week dont pay it off, so lets use Feature binarization to set a threshold values less then day 4 "
        },
        {
            "cell_type": "code",
            "execution_count": 11,
            "metadata": {
                "button": false,
                "new_sheet": false,
                "run_control": {
                    "read_only": false
                }
            },
            "outputs": [
                {
                    "data": {
                        "text/html": "<div>\n<style scoped>\n    .dataframe tbody tr th:only-of-type {\n        vertical-align: middle;\n    }\n\n    .dataframe tbody tr th {\n        vertical-align: top;\n    }\n\n    .dataframe thead th {\n        text-align: right;\n    }\n</style>\n<table border=\"1\" class=\"dataframe\">\n  <thead>\n    <tr style=\"text-align: right;\">\n      <th></th>\n      <th>Unnamed: 0</th>\n      <th>Unnamed: 0.1</th>\n      <th>loan_status</th>\n      <th>Principal</th>\n      <th>terms</th>\n      <th>effective_date</th>\n      <th>due_date</th>\n      <th>age</th>\n      <th>education</th>\n      <th>Gender</th>\n      <th>dayofweek</th>\n      <th>weekend</th>\n    </tr>\n  </thead>\n  <tbody>\n    <tr>\n      <th>0</th>\n      <td>0</td>\n      <td>0</td>\n      <td>PAIDOFF</td>\n      <td>1000</td>\n      <td>30</td>\n      <td>2016-09-08</td>\n      <td>2016-10-07</td>\n      <td>45</td>\n      <td>High School or Below</td>\n      <td>male</td>\n      <td>3</td>\n      <td>0</td>\n    </tr>\n    <tr>\n      <th>1</th>\n      <td>2</td>\n      <td>2</td>\n      <td>PAIDOFF</td>\n      <td>1000</td>\n      <td>30</td>\n      <td>2016-09-08</td>\n      <td>2016-10-07</td>\n      <td>33</td>\n      <td>Bechalor</td>\n      <td>female</td>\n      <td>3</td>\n      <td>0</td>\n    </tr>\n    <tr>\n      <th>2</th>\n      <td>3</td>\n      <td>3</td>\n      <td>PAIDOFF</td>\n      <td>1000</td>\n      <td>15</td>\n      <td>2016-09-08</td>\n      <td>2016-09-22</td>\n      <td>27</td>\n      <td>college</td>\n      <td>male</td>\n      <td>3</td>\n      <td>0</td>\n    </tr>\n    <tr>\n      <th>3</th>\n      <td>4</td>\n      <td>4</td>\n      <td>PAIDOFF</td>\n      <td>1000</td>\n      <td>30</td>\n      <td>2016-09-09</td>\n      <td>2016-10-08</td>\n      <td>28</td>\n      <td>college</td>\n      <td>female</td>\n      <td>4</td>\n      <td>1</td>\n    </tr>\n    <tr>\n      <th>4</th>\n      <td>6</td>\n      <td>6</td>\n      <td>PAIDOFF</td>\n      <td>1000</td>\n      <td>30</td>\n      <td>2016-09-09</td>\n      <td>2016-10-08</td>\n      <td>29</td>\n      <td>college</td>\n      <td>male</td>\n      <td>4</td>\n      <td>1</td>\n    </tr>\n  </tbody>\n</table>\n</div>",
                        "text/plain": "   Unnamed: 0  Unnamed: 0.1 loan_status  Principal  terms effective_date  \\\n0           0             0     PAIDOFF       1000     30     2016-09-08   \n1           2             2     PAIDOFF       1000     30     2016-09-08   \n2           3             3     PAIDOFF       1000     15     2016-09-08   \n3           4             4     PAIDOFF       1000     30     2016-09-09   \n4           6             6     PAIDOFF       1000     30     2016-09-09   \n\n    due_date  age             education  Gender  dayofweek  weekend  \n0 2016-10-07   45  High School or Below    male          3        0  \n1 2016-10-07   33              Bechalor  female          3        0  \n2 2016-09-22   27               college    male          3        0  \n3 2016-10-08   28               college  female          4        1  \n4 2016-10-08   29               college    male          4        1  "
                    },
                    "execution_count": 11,
                    "metadata": {},
                    "output_type": "execute_result"
                }
            ],
            "source": "df['weekend'] = df['dayofweek'].apply(lambda x: 1 if (x>3)  else 0)\ndf.head()"
        },
        {
            "cell_type": "markdown",
            "metadata": {
                "button": false,
                "new_sheet": false,
                "run_control": {
                    "read_only": false
                }
            },
            "source": "## Convert Categorical features to numerical values"
        },
        {
            "cell_type": "markdown",
            "metadata": {
                "button": false,
                "new_sheet": false,
                "run_control": {
                    "read_only": false
                }
            },
            "source": "Lets look at gender:"
        },
        {
            "cell_type": "code",
            "execution_count": 12,
            "metadata": {
                "button": false,
                "new_sheet": false,
                "run_control": {
                    "read_only": false
                }
            },
            "outputs": [
                {
                    "data": {
                        "text/plain": "Gender  loan_status\nfemale  PAIDOFF        0.865385\n        COLLECTION     0.134615\nmale    PAIDOFF        0.731293\n        COLLECTION     0.268707\nName: loan_status, dtype: float64"
                    },
                    "execution_count": 12,
                    "metadata": {},
                    "output_type": "execute_result"
                }
            ],
            "source": "df.groupby(['Gender'])['loan_status'].value_counts(normalize=True)"
        },
        {
            "cell_type": "markdown",
            "metadata": {
                "button": false,
                "new_sheet": false,
                "run_control": {
                    "read_only": false
                }
            },
            "source": "86 % of female pay there loans while only 73 % of males pay there loan\n"
        },
        {
            "cell_type": "markdown",
            "metadata": {
                "button": false,
                "new_sheet": false,
                "run_control": {
                    "read_only": false
                }
            },
            "source": "Lets convert male to 0 and female to 1:\n"
        },
        {
            "cell_type": "code",
            "execution_count": 13,
            "metadata": {
                "button": false,
                "new_sheet": false,
                "run_control": {
                    "read_only": false
                }
            },
            "outputs": [
                {
                    "data": {
                        "text/html": "<div>\n<style scoped>\n    .dataframe tbody tr th:only-of-type {\n        vertical-align: middle;\n    }\n\n    .dataframe tbody tr th {\n        vertical-align: top;\n    }\n\n    .dataframe thead th {\n        text-align: right;\n    }\n</style>\n<table border=\"1\" class=\"dataframe\">\n  <thead>\n    <tr style=\"text-align: right;\">\n      <th></th>\n      <th>Unnamed: 0</th>\n      <th>Unnamed: 0.1</th>\n      <th>loan_status</th>\n      <th>Principal</th>\n      <th>terms</th>\n      <th>effective_date</th>\n      <th>due_date</th>\n      <th>age</th>\n      <th>education</th>\n      <th>Gender</th>\n      <th>dayofweek</th>\n      <th>weekend</th>\n    </tr>\n  </thead>\n  <tbody>\n    <tr>\n      <th>0</th>\n      <td>0</td>\n      <td>0</td>\n      <td>PAIDOFF</td>\n      <td>1000</td>\n      <td>30</td>\n      <td>2016-09-08</td>\n      <td>2016-10-07</td>\n      <td>45</td>\n      <td>High School or Below</td>\n      <td>0</td>\n      <td>3</td>\n      <td>0</td>\n    </tr>\n    <tr>\n      <th>1</th>\n      <td>2</td>\n      <td>2</td>\n      <td>PAIDOFF</td>\n      <td>1000</td>\n      <td>30</td>\n      <td>2016-09-08</td>\n      <td>2016-10-07</td>\n      <td>33</td>\n      <td>Bechalor</td>\n      <td>1</td>\n      <td>3</td>\n      <td>0</td>\n    </tr>\n    <tr>\n      <th>2</th>\n      <td>3</td>\n      <td>3</td>\n      <td>PAIDOFF</td>\n      <td>1000</td>\n      <td>15</td>\n      <td>2016-09-08</td>\n      <td>2016-09-22</td>\n      <td>27</td>\n      <td>college</td>\n      <td>0</td>\n      <td>3</td>\n      <td>0</td>\n    </tr>\n    <tr>\n      <th>3</th>\n      <td>4</td>\n      <td>4</td>\n      <td>PAIDOFF</td>\n      <td>1000</td>\n      <td>30</td>\n      <td>2016-09-09</td>\n      <td>2016-10-08</td>\n      <td>28</td>\n      <td>college</td>\n      <td>1</td>\n      <td>4</td>\n      <td>1</td>\n    </tr>\n    <tr>\n      <th>4</th>\n      <td>6</td>\n      <td>6</td>\n      <td>PAIDOFF</td>\n      <td>1000</td>\n      <td>30</td>\n      <td>2016-09-09</td>\n      <td>2016-10-08</td>\n      <td>29</td>\n      <td>college</td>\n      <td>0</td>\n      <td>4</td>\n      <td>1</td>\n    </tr>\n  </tbody>\n</table>\n</div>",
                        "text/plain": "   Unnamed: 0  Unnamed: 0.1 loan_status  Principal  terms effective_date  \\\n0           0             0     PAIDOFF       1000     30     2016-09-08   \n1           2             2     PAIDOFF       1000     30     2016-09-08   \n2           3             3     PAIDOFF       1000     15     2016-09-08   \n3           4             4     PAIDOFF       1000     30     2016-09-09   \n4           6             6     PAIDOFF       1000     30     2016-09-09   \n\n    due_date  age             education  Gender  dayofweek  weekend  \n0 2016-10-07   45  High School or Below       0          3        0  \n1 2016-10-07   33              Bechalor       1          3        0  \n2 2016-09-22   27               college       0          3        0  \n3 2016-10-08   28               college       1          4        1  \n4 2016-10-08   29               college       0          4        1  "
                    },
                    "execution_count": 13,
                    "metadata": {},
                    "output_type": "execute_result"
                }
            ],
            "source": "df['Gender'].replace(to_replace=['male','female'], value=[0,1],inplace=True)\ndf.head()"
        },
        {
            "cell_type": "markdown",
            "metadata": {
                "button": false,
                "new_sheet": false,
                "run_control": {
                    "read_only": false
                }
            },
            "source": "## One Hot Encoding  \n#### How about education?"
        },
        {
            "cell_type": "code",
            "execution_count": 14,
            "metadata": {
                "button": false,
                "new_sheet": false,
                "run_control": {
                    "read_only": false
                }
            },
            "outputs": [
                {
                    "data": {
                        "text/plain": "education             loan_status\nBechalor              PAIDOFF        0.750000\n                      COLLECTION     0.250000\nHigh School or Below  PAIDOFF        0.741722\n                      COLLECTION     0.258278\nMaster or Above       COLLECTION     0.500000\n                      PAIDOFF        0.500000\ncollege               PAIDOFF        0.765101\n                      COLLECTION     0.234899\nName: loan_status, dtype: float64"
                    },
                    "execution_count": 14,
                    "metadata": {},
                    "output_type": "execute_result"
                }
            ],
            "source": "df.groupby(['education'])['loan_status'].value_counts(normalize=True)"
        },
        {
            "cell_type": "markdown",
            "metadata": {
                "button": false,
                "new_sheet": false,
                "run_control": {
                    "read_only": false
                }
            },
            "source": "#### Feature befor One Hot Encoding"
        },
        {
            "cell_type": "code",
            "execution_count": 15,
            "metadata": {
                "button": false,
                "new_sheet": false,
                "run_control": {
                    "read_only": false
                }
            },
            "outputs": [
                {
                    "data": {
                        "text/html": "<div>\n<style scoped>\n    .dataframe tbody tr th:only-of-type {\n        vertical-align: middle;\n    }\n\n    .dataframe tbody tr th {\n        vertical-align: top;\n    }\n\n    .dataframe thead th {\n        text-align: right;\n    }\n</style>\n<table border=\"1\" class=\"dataframe\">\n  <thead>\n    <tr style=\"text-align: right;\">\n      <th></th>\n      <th>Principal</th>\n      <th>terms</th>\n      <th>age</th>\n      <th>Gender</th>\n      <th>education</th>\n    </tr>\n  </thead>\n  <tbody>\n    <tr>\n      <th>0</th>\n      <td>1000</td>\n      <td>30</td>\n      <td>45</td>\n      <td>0</td>\n      <td>High School or Below</td>\n    </tr>\n    <tr>\n      <th>1</th>\n      <td>1000</td>\n      <td>30</td>\n      <td>33</td>\n      <td>1</td>\n      <td>Bechalor</td>\n    </tr>\n    <tr>\n      <th>2</th>\n      <td>1000</td>\n      <td>15</td>\n      <td>27</td>\n      <td>0</td>\n      <td>college</td>\n    </tr>\n    <tr>\n      <th>3</th>\n      <td>1000</td>\n      <td>30</td>\n      <td>28</td>\n      <td>1</td>\n      <td>college</td>\n    </tr>\n    <tr>\n      <th>4</th>\n      <td>1000</td>\n      <td>30</td>\n      <td>29</td>\n      <td>0</td>\n      <td>college</td>\n    </tr>\n  </tbody>\n</table>\n</div>",
                        "text/plain": "   Principal  terms  age  Gender             education\n0       1000     30   45       0  High School or Below\n1       1000     30   33       1              Bechalor\n2       1000     15   27       0               college\n3       1000     30   28       1               college\n4       1000     30   29       0               college"
                    },
                    "execution_count": 15,
                    "metadata": {},
                    "output_type": "execute_result"
                }
            ],
            "source": "df[['Principal','terms','age','Gender','education']].head()"
        },
        {
            "cell_type": "markdown",
            "metadata": {
                "button": false,
                "new_sheet": false,
                "run_control": {
                    "read_only": false
                }
            },
            "source": "#### Use one hot encoding technique to conver categorical varables to binary variables and append them to the feature Data Frame "
        },
        {
            "cell_type": "code",
            "execution_count": 16,
            "metadata": {
                "button": false,
                "new_sheet": false,
                "run_control": {
                    "read_only": false
                }
            },
            "outputs": [
                {
                    "data": {
                        "text/html": "<div>\n<style scoped>\n    .dataframe tbody tr th:only-of-type {\n        vertical-align: middle;\n    }\n\n    .dataframe tbody tr th {\n        vertical-align: top;\n    }\n\n    .dataframe thead th {\n        text-align: right;\n    }\n</style>\n<table border=\"1\" class=\"dataframe\">\n  <thead>\n    <tr style=\"text-align: right;\">\n      <th></th>\n      <th>Principal</th>\n      <th>terms</th>\n      <th>age</th>\n      <th>Gender</th>\n      <th>weekend</th>\n      <th>Bechalor</th>\n      <th>High School or Below</th>\n      <th>college</th>\n    </tr>\n  </thead>\n  <tbody>\n    <tr>\n      <th>0</th>\n      <td>1000</td>\n      <td>30</td>\n      <td>45</td>\n      <td>0</td>\n      <td>0</td>\n      <td>0</td>\n      <td>1</td>\n      <td>0</td>\n    </tr>\n    <tr>\n      <th>1</th>\n      <td>1000</td>\n      <td>30</td>\n      <td>33</td>\n      <td>1</td>\n      <td>0</td>\n      <td>1</td>\n      <td>0</td>\n      <td>0</td>\n    </tr>\n    <tr>\n      <th>2</th>\n      <td>1000</td>\n      <td>15</td>\n      <td>27</td>\n      <td>0</td>\n      <td>0</td>\n      <td>0</td>\n      <td>0</td>\n      <td>1</td>\n    </tr>\n    <tr>\n      <th>3</th>\n      <td>1000</td>\n      <td>30</td>\n      <td>28</td>\n      <td>1</td>\n      <td>1</td>\n      <td>0</td>\n      <td>0</td>\n      <td>1</td>\n    </tr>\n    <tr>\n      <th>4</th>\n      <td>1000</td>\n      <td>30</td>\n      <td>29</td>\n      <td>0</td>\n      <td>1</td>\n      <td>0</td>\n      <td>0</td>\n      <td>1</td>\n    </tr>\n  </tbody>\n</table>\n</div>",
                        "text/plain": "   Principal  terms  age  Gender  weekend  Bechalor  High School or Below  \\\n0       1000     30   45       0        0         0                     1   \n1       1000     30   33       1        0         1                     0   \n2       1000     15   27       0        0         0                     0   \n3       1000     30   28       1        1         0                     0   \n4       1000     30   29       0        1         0                     0   \n\n   college  \n0        0  \n1        0  \n2        1  \n3        1  \n4        1  "
                    },
                    "execution_count": 16,
                    "metadata": {},
                    "output_type": "execute_result"
                }
            ],
            "source": "Feature = df[['Principal','terms','age','Gender','weekend']]\nFeature = pd.concat([Feature,pd.get_dummies(df['education'])], axis=1)\nFeature.drop(['Master or Above'], axis = 1,inplace=True)\nFeature.head()\n"
        },
        {
            "cell_type": "markdown",
            "metadata": {
                "button": false,
                "new_sheet": false,
                "run_control": {
                    "read_only": false
                }
            },
            "source": "### Feature selection"
        },
        {
            "cell_type": "markdown",
            "metadata": {
                "button": false,
                "new_sheet": false,
                "run_control": {
                    "read_only": false
                }
            },
            "source": "Lets defind feature sets, X:"
        },
        {
            "cell_type": "code",
            "execution_count": 23,
            "metadata": {
                "button": false,
                "new_sheet": false,
                "run_control": {
                    "read_only": false
                }
            },
            "outputs": [
                {
                    "data": {
                        "text/html": "<div>\n<style scoped>\n    .dataframe tbody tr th:only-of-type {\n        vertical-align: middle;\n    }\n\n    .dataframe tbody tr th {\n        vertical-align: top;\n    }\n\n    .dataframe thead th {\n        text-align: right;\n    }\n</style>\n<table border=\"1\" class=\"dataframe\">\n  <thead>\n    <tr style=\"text-align: right;\">\n      <th></th>\n      <th>Principal</th>\n      <th>terms</th>\n      <th>age</th>\n      <th>Gender</th>\n      <th>weekend</th>\n      <th>Bechalor</th>\n      <th>High School or Below</th>\n      <th>college</th>\n    </tr>\n  </thead>\n  <tbody>\n    <tr>\n      <th>0</th>\n      <td>1000</td>\n      <td>30</td>\n      <td>45</td>\n      <td>0</td>\n      <td>0</td>\n      <td>0</td>\n      <td>1</td>\n      <td>0</td>\n    </tr>\n    <tr>\n      <th>1</th>\n      <td>1000</td>\n      <td>30</td>\n      <td>33</td>\n      <td>1</td>\n      <td>0</td>\n      <td>1</td>\n      <td>0</td>\n      <td>0</td>\n    </tr>\n    <tr>\n      <th>2</th>\n      <td>1000</td>\n      <td>15</td>\n      <td>27</td>\n      <td>0</td>\n      <td>0</td>\n      <td>0</td>\n      <td>0</td>\n      <td>1</td>\n    </tr>\n    <tr>\n      <th>3</th>\n      <td>1000</td>\n      <td>30</td>\n      <td>28</td>\n      <td>1</td>\n      <td>1</td>\n      <td>0</td>\n      <td>0</td>\n      <td>1</td>\n    </tr>\n    <tr>\n      <th>4</th>\n      <td>1000</td>\n      <td>30</td>\n      <td>29</td>\n      <td>0</td>\n      <td>1</td>\n      <td>0</td>\n      <td>0</td>\n      <td>1</td>\n    </tr>\n  </tbody>\n</table>\n</div>",
                        "text/plain": "   Principal  terms  age  Gender  weekend  Bechalor  High School or Below  \\\n0       1000     30   45       0        0         0                     1   \n1       1000     30   33       1        0         1                     0   \n2       1000     15   27       0        0         0                     0   \n3       1000     30   28       1        1         0                     0   \n4       1000     30   29       0        1         0                     0   \n\n   college  \n0        0  \n1        0  \n2        1  \n3        1  \n4        1  "
                    },
                    "execution_count": 23,
                    "metadata": {},
                    "output_type": "execute_result"
                }
            ],
            "source": "X = Feature\nX[0:5]"
        },
        {
            "cell_type": "markdown",
            "metadata": {
                "button": false,
                "new_sheet": false,
                "run_control": {
                    "read_only": false
                }
            },
            "source": "What are our lables?"
        },
        {
            "cell_type": "code",
            "execution_count": 24,
            "metadata": {
                "button": false,
                "new_sheet": false,
                "run_control": {
                    "read_only": false
                }
            },
            "outputs": [
                {
                    "data": {
                        "text/plain": "array(['PAIDOFF', 'PAIDOFF', 'PAIDOFF', 'PAIDOFF', 'PAIDOFF'],\n      dtype=object)"
                    },
                    "execution_count": 24,
                    "metadata": {},
                    "output_type": "execute_result"
                }
            ],
            "source": "y = df['loan_status'].values\ny[0:5]"
        },
        {
            "cell_type": "code",
            "execution_count": 25,
            "metadata": {},
            "outputs": [
                {
                    "data": {
                        "text/plain": "([array([7., 0., 0., 0., 0., 0., 0., 0., 0., 1.]),\n  array([7., 0., 0., 0., 0., 0., 0., 0., 0., 1.]),\n  array([7., 0., 0., 0., 0., 0., 0., 0., 0., 1.]),\n  array([7., 0., 0., 0., 0., 0., 0., 0., 0., 1.]),\n  array([7., 0., 0., 0., 0., 0., 0., 0., 0., 1.]),\n  array([7., 0., 0., 0., 0., 0., 0., 0., 0., 1.]),\n  array([7., 0., 0., 0., 0., 0., 0., 0., 0., 1.]),\n  array([7., 0., 0., 0., 0., 0., 0., 0., 1., 0.]),\n  array([7., 0., 0., 1., 0., 0., 0., 0., 0., 0.]),\n  array([7., 0., 0., 0., 0., 0., 0., 0., 0., 1.]),\n  array([7., 0., 0., 0., 0., 0., 0., 0., 0., 1.]),\n  array([7., 0., 0., 0., 0., 0., 0., 0., 0., 1.]),\n  array([7., 0., 0., 0., 0., 0., 0., 0., 0., 1.]),\n  array([7., 0., 0., 0., 0., 0., 0., 0., 1., 0.]),\n  array([7., 0., 0., 0., 0., 0., 0., 0., 0., 1.]),\n  array([7., 0., 0., 0., 0., 0., 0., 0., 0., 1.]),\n  array([7., 0., 0., 0., 0., 0., 0., 0., 0., 1.]),\n  array([7., 0., 0., 0., 0., 0., 0., 0., 1., 0.]),\n  array([7., 0., 0., 0., 0., 0., 0., 0., 0., 1.]),\n  array([7., 0., 0., 0., 0., 0., 0., 0., 0., 1.]),\n  array([7., 0., 0., 0., 0., 0., 0., 0., 0., 1.]),\n  array([7., 0., 0., 0., 0., 0., 0., 0., 0., 1.]),\n  array([7., 0., 0., 0., 0., 0., 0., 0., 1., 0.]),\n  array([7., 0., 0., 0., 0., 0., 0., 0., 0., 1.]),\n  array([7., 0., 0., 0., 0., 0., 0., 0., 0., 1.]),\n  array([7., 0., 0., 0., 0., 0., 0., 0., 0., 1.]),\n  array([7., 0., 0., 0., 0., 0., 0., 0., 1., 0.]),\n  array([7., 0., 0., 0., 0., 0., 0., 0., 0., 1.]),\n  array([7., 0., 0., 0., 0., 0., 0., 0., 0., 1.]),\n  array([7., 0., 0., 0., 0., 0., 0., 0., 0., 1.]),\n  array([7., 0., 0., 0., 0., 0., 0., 0., 1., 0.]),\n  array([7., 0., 0., 0., 0., 0., 0., 0., 0., 1.]),\n  array([7., 0., 0., 0., 0., 0., 0., 0., 0., 1.]),\n  array([7., 0., 0., 0., 0., 0., 0., 0., 0., 1.]),\n  array([7., 0., 0., 0., 0., 0., 0., 0., 1., 0.]),\n  array([7., 0., 0., 0., 0., 0., 0., 0., 0., 1.]),\n  array([7., 0., 0., 0., 0., 0., 0., 0., 0., 1.]),\n  array([7., 0., 0., 0., 0., 0., 0., 0., 0., 1.]),\n  array([7., 0., 0., 0., 0., 0., 0., 0., 1., 0.]),\n  array([7., 0., 0., 0., 0., 0., 0., 0., 0., 1.]),\n  array([7., 0., 0., 0., 0., 0., 0., 0., 0., 1.]),\n  array([7., 0., 0., 0., 0., 0., 0., 0., 1., 0.]),\n  array([7., 0., 0., 0., 0., 0., 0., 0., 0., 1.]),\n  array([7., 0., 0., 0., 0., 0., 0., 0., 1., 0.]),\n  array([7., 0., 0., 0., 0., 0., 0., 0., 0., 1.]),\n  array([7., 0., 0., 0., 0., 0., 0., 0., 0., 1.]),\n  array([7., 0., 0., 0., 0., 0., 0., 0., 0., 1.]),\n  array([7., 0., 0., 0., 0., 0., 0., 0., 0., 1.]),\n  array([7., 0., 0., 0., 0., 0., 0., 0., 0., 1.]),\n  array([7., 0., 0., 0., 0., 0., 0., 0., 1., 0.]),\n  array([7., 0., 0., 0., 0., 0., 0., 0., 1., 0.]),\n  array([7., 0., 0., 0., 0., 0., 0., 0., 0., 1.]),\n  array([7., 0., 0., 0., 0., 0., 0., 0., 0., 1.]),\n  array([7., 0., 0., 0., 0., 0., 0., 0., 0., 1.]),\n  array([7., 0., 0., 0., 0., 0., 0., 0., 0., 1.]),\n  array([7., 0., 0., 0., 0., 0., 0., 0., 0., 1.]),\n  array([7., 0., 0., 0., 0., 0., 0., 0., 0., 1.]),\n  array([7., 0., 0., 0., 0., 0., 0., 0., 0., 1.]),\n  array([7., 0., 0., 0., 0., 0., 0., 0., 1., 0.]),\n  array([7., 0., 0., 0., 0., 0., 0., 0., 1., 0.]),\n  array([7., 0., 0., 0., 0., 0., 0., 0., 0., 1.]),\n  array([7., 0., 0., 0., 0., 0., 0., 0., 0., 1.]),\n  array([7., 0., 0., 0., 0., 0., 0., 0., 0., 1.]),\n  array([7., 0., 0., 0., 0., 0., 0., 0., 0., 1.]),\n  array([7., 0., 0., 0., 0., 0., 0., 0., 0., 1.]),\n  array([7., 0., 0., 0., 0., 0., 0., 0., 0., 1.]),\n  array([7., 0., 0., 0., 0., 0., 0., 0., 0., 1.]),\n  array([7., 0., 0., 0., 0., 0., 0., 0., 0., 1.]),\n  array([7., 0., 0., 0., 0., 0., 0., 0., 0., 1.]),\n  array([7., 0., 0., 0., 0., 0., 0., 0., 1., 0.]),\n  array([7., 0., 0., 0., 0., 0., 0., 0., 0., 1.]),\n  array([7., 0., 0., 0., 0., 0., 0., 0., 0., 1.]),\n  array([7., 0., 0., 0., 0., 0., 0., 0., 1., 0.]),\n  array([7., 0., 0., 0., 0., 0., 0., 0., 1., 0.]),\n  array([7., 0., 0., 0., 0., 0., 0., 0., 1., 0.]),\n  array([7., 0., 0., 0., 0., 0., 0., 0., 1., 0.]),\n  array([7., 0., 0., 0., 0., 0., 0., 0., 0., 1.]),\n  array([7., 0., 0., 0., 0., 0., 0., 0., 0., 1.]),\n  array([7., 0., 0., 0., 0., 0., 0., 0., 0., 1.]),\n  array([7., 0., 0., 0., 0., 0., 0., 0., 0., 1.]),\n  array([7., 0., 0., 0., 0., 0., 0., 0., 0., 1.]),\n  array([7., 0., 0., 0., 0., 0., 0., 0., 1., 0.]),\n  array([7., 0., 0., 0., 0., 0., 0., 0., 0., 1.]),\n  array([7., 0., 0., 0., 0., 0., 0., 0., 0., 1.]),\n  array([7., 0., 0., 0., 0., 0., 0., 0., 0., 1.]),\n  array([7., 0., 0., 0., 0., 0., 0., 0., 0., 1.]),\n  array([7., 0., 0., 0., 0., 0., 0., 0., 0., 1.]),\n  array([7., 0., 0., 0., 0., 0., 0., 0., 0., 1.]),\n  array([7., 0., 0., 0., 0., 0., 0., 0., 0., 1.]),\n  array([7., 0., 0., 0., 0., 0., 0., 0., 1., 0.]),\n  array([7., 0., 0., 0., 0., 0., 0., 0., 0., 1.]),\n  array([7., 0., 0., 0., 0., 0., 0., 0., 0., 1.]),\n  array([7., 0., 0., 0., 0., 0., 0., 0., 0., 1.]),\n  array([7., 0., 0., 0., 0., 0., 0., 0., 0., 1.]),\n  array([7., 0., 0., 0., 0., 0., 0., 0., 0., 1.]),\n  array([7., 0., 0., 0., 0., 0., 0., 0., 0., 1.]),\n  array([7., 0., 0., 0., 0., 0., 0., 0., 0., 1.]),\n  array([7., 0., 0., 0., 0., 0., 0., 0., 0., 1.]),\n  array([7., 0., 0., 0., 0., 0., 0., 0., 1., 0.]),\n  array([7., 0., 0., 0., 0., 0., 0., 0., 0., 1.]),\n  array([7., 0., 0., 0., 0., 0., 0., 0., 0., 1.]),\n  array([7., 0., 0., 0., 0., 0., 0., 0., 0., 1.]),\n  array([7., 0., 0., 0., 0., 0., 0., 0., 0., 1.]),\n  array([7., 0., 0., 0., 0., 0., 0., 0., 0., 1.]),\n  array([7., 0., 0., 0., 0., 0., 0., 0., 0., 1.]),\n  array([7., 0., 0., 0., 0., 0., 0., 0., 0., 1.]),\n  array([7., 0., 0., 0., 0., 0., 0., 0., 1., 0.]),\n  array([7., 0., 0., 0., 0., 0., 0., 0., 0., 1.]),\n  array([7., 0., 0., 0., 0., 0., 0., 0., 0., 1.]),\n  array([7., 0., 0., 0., 0., 0., 0., 0., 0., 1.]),\n  array([7., 0., 0., 0., 0., 0., 0., 0., 1., 0.]),\n  array([7., 0., 0., 0., 0., 0., 0., 0., 0., 1.]),\n  array([7., 0., 0., 0., 0., 0., 0., 0., 0., 1.]),\n  array([7., 0., 0., 0., 0., 0., 0., 0., 1., 0.]),\n  array([7., 0., 0., 0., 0., 0., 0., 0., 0., 1.]),\n  array([7., 0., 0., 0., 0., 0., 0., 0., 1., 0.]),\n  array([7., 0., 0., 0., 0., 0., 0., 0., 0., 1.]),\n  array([7., 0., 0., 0., 0., 0., 0., 0., 0., 1.]),\n  array([7., 0., 0., 0., 0., 0., 0., 0., 0., 1.]),\n  array([7., 0., 0., 0., 0., 0., 0., 0., 0., 1.]),\n  array([7., 0., 0., 0., 0., 0., 0., 0., 1., 0.]),\n  array([7., 0., 0., 0., 0., 0., 0., 0., 1., 0.]),\n  array([7., 0., 0., 0., 0., 0., 0., 0., 0., 1.]),\n  array([7., 0., 0., 0., 0., 0., 0., 0., 0., 1.]),\n  array([7., 0., 0., 0., 0., 0., 0., 0., 0., 1.]),\n  array([7., 0., 0., 0., 0., 0., 0., 0., 0., 1.]),\n  array([7., 0., 0., 0., 0., 0., 0., 0., 1., 0.]),\n  array([7., 0., 0., 0., 0., 0., 0., 0., 1., 0.]),\n  array([7., 0., 0., 0., 0., 1., 0., 0., 0., 0.]),\n  array([7., 0., 0., 0., 0., 0., 0., 0., 0., 1.]),\n  array([7., 0., 0., 0., 0., 0., 0., 0., 0., 1.]),\n  array([7., 0., 0., 0., 0., 0., 0., 0., 0., 1.]),\n  array([7., 0., 0., 0., 0., 0., 0., 0., 1., 0.]),\n  array([7., 0., 0., 0., 0., 0., 0., 0., 0., 1.]),\n  array([7., 0., 0., 0., 0., 0., 0., 0., 0., 1.]),\n  array([7., 0., 0., 0., 0., 0., 0., 0., 0., 1.]),\n  array([7., 0., 0., 0., 0., 0., 0., 0., 1., 0.]),\n  array([7., 0., 0., 0., 0., 0., 0., 0., 0., 1.]),\n  array([7., 0., 0., 0., 0., 0., 0., 0., 0., 1.]),\n  array([7., 0., 0., 0., 0., 0., 0., 0., 0., 1.]),\n  array([7., 0., 0., 0., 0., 0., 0., 0., 0., 1.]),\n  array([7., 0., 0., 0., 0., 0., 0., 0., 0., 1.]),\n  array([7., 0., 0., 0., 0., 0., 0., 0., 0., 1.]),\n  array([7., 0., 0., 0., 0., 0., 0., 0., 0., 1.]),\n  array([7., 0., 0., 0., 0., 0., 0., 0., 0., 1.]),\n  array([7., 0., 0., 0., 0., 0., 0., 0., 1., 0.]),\n  array([7., 0., 0., 0., 0., 0., 0., 0., 0., 1.]),\n  array([7., 0., 0., 0., 0., 0., 0., 0., 1., 0.]),\n  array([7., 0., 0., 0., 0., 0., 0., 0., 1., 0.]),\n  array([7., 0., 0., 0., 0., 0., 0., 0., 0., 1.]),\n  array([7., 0., 0., 0., 0., 0., 0., 0., 0., 1.]),\n  array([7., 0., 0., 0., 0., 0., 0., 0., 0., 1.]),\n  array([7., 0., 0., 0., 0., 0., 0., 0., 0., 1.]),\n  array([7., 0., 0., 1., 0., 0., 0., 0., 0., 0.]),\n  array([7., 0., 0., 0., 0., 0., 0., 0., 0., 1.]),\n  array([7., 0., 0., 0., 0., 0., 0., 0., 1., 0.]),\n  array([7., 0., 0., 0., 0., 0., 0., 0., 0., 1.]),\n  array([7., 0., 0., 0., 0., 0., 0., 0., 0., 1.]),\n  array([7., 0., 0., 0., 0., 0., 0., 0., 0., 1.]),\n  array([7., 0., 0., 0., 0., 0., 0., 0., 1., 0.]),\n  array([7., 0., 0., 0., 0., 0., 0., 0., 1., 0.]),\n  array([7., 0., 0., 0., 0., 0., 0., 0., 0., 1.]),\n  array([7., 0., 0., 0., 0., 0., 0., 0., 0., 1.]),\n  array([7., 0., 0., 0., 0., 0., 0., 0., 0., 1.]),\n  array([7., 0., 0., 0., 0., 0., 0., 0., 0., 1.]),\n  array([7., 0., 0., 0., 0., 0., 0., 0., 1., 0.]),\n  array([7., 0., 0., 0., 0., 0., 0., 0., 0., 1.]),\n  array([7., 0., 0., 0., 0., 0., 0., 0., 0., 1.]),\n  array([7., 0., 0., 0., 0., 0., 0., 0., 0., 1.]),\n  array([7., 0., 0., 0., 0., 0., 0., 0., 0., 1.]),\n  array([7., 0., 0., 0., 0., 0., 0., 0., 0., 1.]),\n  array([7., 0., 0., 0., 0., 0., 0., 0., 1., 0.]),\n  array([7., 0., 0., 0., 0., 0., 0., 0., 0., 1.]),\n  array([7., 0., 0., 0., 0., 0., 0., 0., 0., 1.]),\n  array([7., 0., 0., 0., 0., 0., 0., 0., 0., 1.]),\n  array([7., 0., 0., 0., 0., 0., 0., 0., 0., 1.]),\n  array([7., 0., 0., 1., 0., 0., 0., 0., 0., 0.]),\n  array([7., 0., 0., 0., 0., 0., 0., 0., 0., 1.]),\n  array([7., 0., 0., 0., 0., 0., 0., 0., 0., 1.]),\n  array([7., 0., 0., 0., 0., 0., 0., 0., 0., 1.]),\n  array([7., 0., 0., 0., 0., 0., 0., 0., 0., 1.]),\n  array([7., 0., 0., 0., 0., 0., 0., 0., 0., 1.]),\n  array([7., 0., 0., 0., 0., 0., 0., 0., 0., 1.]),\n  array([7., 0., 0., 0., 0., 0., 0., 0., 0., 1.]),\n  array([7., 0., 0., 0., 0., 0., 0., 0., 0., 1.]),\n  array([7., 0., 0., 0., 0., 0., 0., 0., 1., 0.]),\n  array([7., 0., 0., 0., 0., 0., 0., 0., 0., 1.]),\n  array([7., 0., 0., 0., 0., 0., 0., 0., 0., 1.]),\n  array([7., 0., 0., 0., 0., 0., 0., 0., 0., 1.]),\n  array([7., 0., 0., 0., 0., 0., 0., 0., 0., 1.]),\n  array([7., 0., 0., 0., 0., 0., 0., 0., 0., 1.]),\n  array([7., 0., 0., 0., 0., 0., 0., 0., 0., 1.]),\n  array([7., 0., 0., 0., 0., 0., 0., 0., 0., 1.]),\n  array([7., 0., 0., 0., 0., 0., 0., 0., 0., 1.]),\n  array([7., 0., 0., 0., 0., 0., 0., 0., 1., 0.]),\n  array([7., 0., 0., 0., 0., 0., 0., 0., 1., 0.]),\n  array([7., 0., 0., 0., 0., 0., 0., 0., 1., 0.]),\n  array([7., 0., 0., 0., 0., 0., 0., 0., 0., 1.]),\n  array([7., 0., 0., 0., 0., 0., 0., 0., 0., 1.]),\n  array([7., 0., 0., 0., 0., 0., 0., 0., 0., 1.]),\n  array([7., 0., 0., 0., 0., 0., 0., 0., 0., 1.]),\n  array([7., 0., 0., 0., 0., 0., 0., 0., 1., 0.]),\n  array([7., 0., 0., 0., 0., 0., 0., 0., 0., 1.]),\n  array([7., 0., 0., 0., 0., 0., 0., 0., 1., 0.]),\n  array([7., 0., 0., 0., 0., 0., 0., 0., 0., 1.]),\n  array([7., 0., 0., 0., 0., 0., 0., 0., 0., 1.]),\n  array([7., 0., 0., 0., 0., 0., 0., 0., 0., 1.]),\n  array([7., 0., 0., 0., 0., 0., 0., 0., 1., 0.]),\n  array([7., 0., 0., 0., 0., 0., 0., 0., 1., 0.]),\n  array([7., 0., 0., 0., 0., 0., 0., 0., 0., 1.]),\n  array([7., 0., 0., 0., 0., 0., 0., 0., 0., 1.]),\n  array([7., 0., 0., 0., 0., 0., 0., 0., 1., 0.]),\n  array([7., 0., 0., 0., 0., 0., 0., 0., 1., 0.]),\n  array([7., 0., 0., 0., 0., 0., 0., 0., 0., 1.]),\n  array([7., 0., 0., 0., 0., 0., 0., 0., 0., 1.]),\n  array([7., 0., 0., 0., 0., 0., 0., 0., 1., 0.]),\n  array([7., 0., 0., 0., 0., 1., 0., 0., 0., 0.]),\n  array([7., 0., 0., 0., 0., 0., 0., 0., 0., 1.]),\n  array([7., 0., 0., 0., 0., 0., 0., 0., 0., 1.]),\n  array([7., 0., 0., 0., 0., 0., 0., 0., 1., 0.]),\n  array([7., 0., 0., 0., 0., 0., 0., 0., 0., 1.]),\n  array([7., 0., 0., 0., 0., 0., 0., 0., 0., 1.]),\n  array([7., 0., 0., 0., 0., 0., 0., 0., 0., 1.]),\n  array([7., 0., 0., 0., 0., 0., 0., 0., 1., 0.]),\n  array([7., 0., 0., 0., 0., 0., 0., 0., 0., 1.]),\n  array([7., 0., 0., 0., 0., 0., 0., 0., 1., 0.]),\n  array([7., 0., 0., 0., 0., 0., 0., 0., 0., 1.]),\n  array([7., 0., 0., 0., 0., 0., 0., 0., 0., 1.]),\n  array([7., 0., 0., 0., 0., 0., 0., 0., 1., 0.]),\n  array([7., 0., 0., 0., 0., 0., 0., 0., 0., 1.]),\n  array([7., 0., 0., 0., 0., 0., 0., 0., 0., 1.]),\n  array([7., 0., 0., 0., 0., 0., 0., 0., 1., 0.]),\n  array([7., 0., 0., 0., 0., 0., 0., 0., 0., 1.]),\n  array([7., 0., 0., 0., 0., 0., 0., 0., 0., 1.]),\n  array([7., 0., 0., 0., 0., 0., 0., 0., 0., 1.]),\n  array([7., 0., 0., 0., 0., 0., 0., 0., 0., 1.]),\n  array([7., 0., 0., 0., 0., 0., 0., 0., 0., 1.]),\n  array([7., 0., 0., 0., 0., 0., 0., 0., 1., 0.]),\n  array([7., 0., 0., 0., 0., 0., 0., 0., 1., 0.]),\n  array([7., 0., 0., 0., 0., 0., 0., 0., 0., 1.]),\n  array([7., 0., 0., 0., 0., 0., 0., 0., 1., 0.]),\n  array([7., 0., 0., 0., 0., 0., 0., 0., 1., 0.]),\n  array([7., 0., 0., 0., 0., 0., 0., 0., 1., 0.]),\n  array([7., 0., 0., 0., 0., 0., 0., 0., 0., 1.]),\n  array([7., 0., 0., 0., 0., 0., 0., 0., 0., 1.]),\n  array([7., 0., 0., 0., 0., 0., 0., 0., 0., 1.]),\n  array([7., 0., 0., 0., 0., 0., 0., 0., 0., 1.]),\n  array([7., 0., 0., 0., 0., 0., 0., 0., 0., 1.]),\n  array([7., 0., 0., 0., 0., 0., 0., 0., 0., 1.]),\n  array([7., 0., 0., 0., 0., 0., 0., 0., 0., 1.]),\n  array([7., 0., 0., 0., 0., 0., 0., 0., 1., 0.]),\n  array([7., 0., 0., 0., 0., 0., 0., 0., 0., 1.]),\n  array([7., 0., 0., 0., 0., 0., 0., 0., 0., 1.]),\n  array([7., 0., 0., 0., 0., 0., 0., 0., 0., 1.]),\n  array([7., 0., 0., 0., 0., 0., 0., 0., 0., 1.]),\n  array([7., 0., 0., 0., 0., 0., 0., 0., 0., 1.]),\n  array([7., 0., 0., 0., 0., 0., 0., 0., 1., 0.]),\n  array([7., 0., 0., 0., 0., 0., 0., 0., 0., 1.]),\n  array([7., 0., 0., 0., 0., 0., 0., 0., 0., 1.]),\n  array([7., 0., 0., 0., 0., 0., 0., 0., 0., 1.]),\n  array([7., 0., 0., 0., 0., 0., 0., 0., 0., 1.]),\n  array([7., 0., 0., 0., 0., 0., 0., 0., 0., 1.]),\n  array([7., 0., 0., 0., 0., 0., 0., 0., 1., 0.]),\n  array([7., 0., 0., 0., 0., 0., 0., 0., 1., 0.]),\n  array([7., 0., 0., 0., 0., 0., 0., 0., 1., 0.]),\n  array([7., 0., 0., 0., 0., 0., 0., 0., 0., 1.]),\n  array([7., 0., 0., 0., 0., 0., 0., 0., 0., 1.]),\n  array([7., 0., 0., 0., 0., 0., 0., 0., 0., 1.]),\n  array([7., 0., 0., 0., 0., 0., 0., 0., 0., 1.]),\n  array([7., 0., 0., 0., 0., 0., 0., 0., 0., 1.]),\n  array([7., 0., 0., 0., 0., 0., 0., 0., 0., 1.]),\n  array([7., 0., 0., 0., 0., 0., 0., 0., 0., 1.]),\n  array([7., 0., 0., 0., 0., 0., 0., 0., 0., 1.]),\n  array([7., 0., 0., 0., 0., 0., 0., 0., 0., 1.]),\n  array([7., 0., 0., 0., 0., 0., 0., 0., 0., 1.]),\n  array([7., 0., 0., 0., 0., 0., 0., 0., 0., 1.]),\n  array([7., 0., 0., 0., 0., 0., 0., 0., 1., 0.]),\n  array([7., 0., 0., 0., 0., 0., 0., 0., 0., 1.]),\n  array([7., 0., 0., 0., 0., 0., 0., 0., 0., 1.]),\n  array([7., 0., 0., 0., 0., 0., 0., 0., 1., 0.]),\n  array([7., 0., 0., 0., 0., 0., 0., 0., 0., 1.]),\n  array([7., 0., 0., 0., 0., 0., 0., 0., 0., 1.]),\n  array([7., 0., 0., 0., 0., 0., 0., 0., 0., 1.]),\n  array([7., 0., 0., 0., 0., 0., 0., 0., 0., 1.]),\n  array([7., 0., 0., 0., 0., 0., 0., 0., 0., 1.]),\n  array([7., 0., 0., 0., 0., 0., 0., 0., 0., 1.]),\n  array([7., 0., 0., 0., 0., 0., 0., 0., 0., 1.]),\n  array([7., 0., 0., 0., 0., 0., 0., 0., 0., 1.]),\n  array([7., 0., 0., 0., 0., 0., 0., 0., 0., 1.]),\n  array([7., 0., 0., 0., 0., 0., 0., 0., 0., 1.]),\n  array([7., 0., 0., 0., 0., 0., 0., 0., 0., 1.]),\n  array([7., 0., 0., 0., 0., 0., 0., 0., 0., 1.]),\n  array([7., 0., 0., 0., 0., 0., 0., 0., 0., 1.]),\n  array([7., 0., 0., 0., 0., 0., 0., 0., 0., 1.]),\n  array([7., 0., 0., 0., 0., 0., 0., 0., 0., 1.]),\n  array([7., 0., 0., 0., 0., 0., 0., 0., 1., 0.]),\n  array([7., 0., 0., 0., 0., 0., 0., 0., 0., 1.]),\n  array([7., 0., 0., 0., 0., 0., 0., 0., 0., 1.]),\n  array([7., 0., 0., 0., 0., 0., 0., 0., 1., 0.]),\n  array([7., 0., 0., 0., 0., 0., 0., 0., 0., 1.]),\n  array([7., 0., 0., 0., 0., 0., 0., 0., 0., 1.]),\n  array([7., 0., 0., 0., 0., 0., 0., 0., 0., 1.]),\n  array([7., 0., 0., 0., 0., 0., 0., 0., 0., 1.]),\n  array([7., 0., 0., 0., 0., 0., 0., 0., 0., 1.]),\n  array([7., 0., 0., 0., 0., 0., 0., 0., 0., 1.]),\n  array([7., 0., 0., 0., 0., 0., 0., 0., 0., 1.]),\n  array([7., 0., 0., 0., 0., 0., 0., 0., 0., 1.]),\n  array([7., 0., 0., 0., 0., 0., 0., 0., 0., 1.]),\n  array([7., 0., 0., 0., 0., 0., 0., 0., 0., 1.]),\n  array([7., 0., 0., 0., 0., 0., 0., 0., 0., 1.]),\n  array([7., 0., 0., 0., 0., 0., 0., 0., 1., 0.]),\n  array([7., 0., 0., 0., 0., 0., 0., 0., 0., 1.]),\n  array([7., 0., 0., 0., 0., 0., 0., 0., 0., 1.]),\n  array([7., 0., 0., 0., 0., 0., 0., 0., 1., 0.]),\n  array([7., 0., 0., 0., 0., 0., 0., 0., 0., 1.]),\n  array([7., 0., 0., 0., 0., 0., 0., 0., 1., 0.]),\n  array([7., 0., 0., 0., 0., 0., 0., 0., 1., 0.]),\n  array([7., 0., 0., 0., 0., 0., 0., 0., 0., 1.]),\n  array([7., 0., 0., 0., 0., 0., 0., 0., 0., 1.]),\n  array([7., 0., 0., 0., 0., 0., 0., 0., 1., 0.]),\n  array([7., 0., 0., 0., 0., 0., 0., 0., 0., 1.]),\n  array([7., 0., 0., 0., 0., 0., 0., 0., 0., 1.]),\n  array([7., 0., 0., 0., 0., 0., 0., 0., 1., 0.]),\n  array([7., 0., 0., 0., 0., 0., 0., 0., 0., 1.]),\n  array([7., 0., 0., 0., 0., 0., 0., 0., 0., 1.]),\n  array([7., 0., 0., 0., 0., 0., 0., 0., 0., 1.]),\n  array([7., 0., 0., 0., 0., 0., 0., 0., 0., 1.]),\n  array([7., 0., 0., 0., 0., 0., 0., 0., 0., 1.]),\n  array([7., 0., 0., 0., 0., 0., 0., 0., 1., 0.]),\n  array([7., 0., 0., 0., 0., 0., 0., 0., 0., 1.]),\n  array([7., 0., 0., 0., 0., 0., 0., 0., 0., 1.]),\n  array([7., 0., 0., 0., 0., 0., 0., 0., 0., 1.]),\n  array([7., 0., 0., 0., 0., 0., 0., 0., 0., 1.]),\n  array([7., 0., 0., 0., 0., 0., 0., 0., 1., 0.]),\n  array([7., 0., 0., 0., 0., 0., 0., 0., 0., 1.]),\n  array([7., 0., 0., 0., 0., 0., 0., 0., 0., 1.]),\n  array([7., 0., 0., 0., 0., 0., 0., 0., 0., 1.]),\n  array([7., 0., 0., 0., 0., 0., 0., 0., 0., 1.]),\n  array([7., 0., 0., 0., 0., 0., 0., 0., 1., 0.]),\n  array([7., 0., 0., 0., 0., 0., 0., 0., 0., 1.]),\n  array([7., 0., 0., 0., 0., 0., 0., 0., 0., 1.]),\n  array([7., 0., 0., 0., 0., 0., 0., 0., 1., 0.]),\n  array([7., 0., 0., 0., 0., 0., 0., 0., 0., 1.]),\n  array([7., 0., 0., 0., 0., 0., 0., 0., 1., 0.]),\n  array([7., 0., 0., 0., 0., 0., 0., 0., 0., 1.]),\n  array([7., 0., 0., 0., 0., 0., 0., 0., 0., 1.])],\n array([   0.,  100.,  200.,  300.,  400.,  500.,  600.,  700.,  800.,\n         900., 1000.]),\n <a list of 346 Lists of Patches objects>)"
                    },
                    "execution_count": 25,
                    "metadata": {},
                    "output_type": "execute_result"
                },
                {
                    "data": {
                        "image/png": "[encoded data removed]",
                        "text/plain": "<Figure size 432x288 with 1 Axes>"
                    },
                    "metadata": {
                        "needs_background": "light"
                    },
                    "output_type": "display_data"
                }
            ],
            "source": "plt.hist(X)"
        },
        {
            "cell_type": "markdown",
            "metadata": {
                "button": false,
                "new_sheet": false,
                "run_control": {
                    "read_only": false
                }
            },
            "source": "## Normalize Data "
        },
        {
            "cell_type": "markdown",
            "metadata": {
                "button": false,
                "new_sheet": false,
                "run_control": {
                    "read_only": false
                }
            },
            "source": "Data Standardization give data zero mean and unit variance (technically should be done after train test split )"
        },
        {
            "cell_type": "code",
            "execution_count": 28,
            "metadata": {
                "button": false,
                "new_sheet": false,
                "run_control": {
                    "read_only": false
                },
                "scrolled": true
            },
            "outputs": [
                {
                    "data": {
                        "text/plain": "array([[ 0.51578458,  0.92071769,  2.33152555, -0.42056004, -1.20577805,\n        -0.38170062,  1.13639374, -0.86968108],\n       [ 0.51578458,  0.92071769,  0.34170148,  2.37778177, -1.20577805,\n         2.61985426, -0.87997669, -0.86968108],\n       [ 0.51578458, -0.95911111, -0.65321055, -0.42056004, -1.20577805,\n        -0.38170062, -0.87997669,  1.14984679],\n       [ 0.51578458,  0.92071769, -0.48739188,  2.37778177,  0.82934003,\n        -0.38170062, -0.87997669,  1.14984679],\n       [ 0.51578458,  0.92071769, -0.3215732 , -0.42056004,  0.82934003,\n        -0.38170062, -0.87997669,  1.14984679]])"
                    },
                    "execution_count": 28,
                    "metadata": {},
                    "output_type": "execute_result"
                }
            ],
            "source": "X= preprocessing.StandardScaler().fit(X).transform(X)\nX[0:5]"
        },
        {
            "cell_type": "code",
            "execution_count": 29,
            "metadata": {},
            "outputs": [
                {
                    "data": {
                        "text/plain": "([array([  3.,   2.,   0.,   0.,  81.,   2., 258.,   0.,   0.,   0.]),\n  array([  0.,   0.,   0.,   0.,  14., 148.,   0., 184.,   0.,   0.]),\n  array([  0.,   0.,   0.,   0.,  26., 108., 124.,  57.,  24.,   7.]),\n  array([  0.,   0.,   0.,   0.,   0., 294.,   0.,   0.,  52.,   0.]),\n  array([  0.,   0.,   0.,   0.,   0., 141.,   0., 205.,   0.,   0.]),\n  array([  0.,   0.,   0.,   0.,   0., 302.,   0.,   0.,   0.,  44.]),\n  array([  0.,   0.,   0.,   0.,   0., 195.,   0., 151.,   0.,   0.]),\n  array([  0.,   0.,   0.,   0.,   0., 197.,   0., 149.,   0.,   0.])],\n array([-5.89052444, -4.96882824, -4.04713204, -3.12543584, -2.20373963,\n        -1.28204343, -0.36034723,  0.56134897,  1.48304517,  2.40474138,\n         3.32643758]),\n <a list of 8 Lists of Patches objects>)"
                    },
                    "execution_count": 29,
                    "metadata": {},
                    "output_type": "execute_result"
                },
                {
                    "data": {
                        "image/png": "[encoded data removed]",
                        "text/plain": "<Figure size 432x288 with 1 Axes>"
                    },
                    "metadata": {
                        "needs_background": "light"
                    },
                    "output_type": "display_data"
                }
            ],
            "source": "plt.hist(X)"
        },
        {
            "cell_type": "markdown",
            "metadata": {
                "button": false,
                "new_sheet": false,
                "run_control": {
                    "read_only": false
                }
            },
            "source": "# Classification "
        },
        {
            "cell_type": "markdown",
            "metadata": {
                "button": false,
                "new_sheet": false,
                "run_control": {
                    "read_only": false
                }
            },
            "source": "Now, it is your turn, use the training set to build an accurate model. Then use the test set to report the accuracy of the model\nYou should use the following algorithm:\n- K Nearest Neighbor(KNN)\n- Decision Tree\n- Support Vector Machine\n- Logistic Regression\n\n\n\n__ Notice:__ \n- You can go above and change the pre-processing, feature selection, feature-extraction, and so on, to make a better model.\n- You should use either scikit-learn, Scipy or Numpy libraries for developing the classification algorithms.\n- You should include the code of the algorithm in the following cells."
        },
        {
            "cell_type": "code",
            "execution_count": 30,
            "metadata": {},
            "outputs": [],
            "source": "# Evaluation Metrices\nfrom sklearn.metrics import jaccard_similarity_score, f1_score, log_loss"
        },
        {
            "cell_type": "code",
            "execution_count": 31,
            "metadata": {},
            "outputs": [],
            "source": "# Splitting Dataset\nfrom sklearn.model_selection import train_test_split\nX_train, X_test, y_train, y_test = train_test_split(X, y, test_size = 0.2, random_state = 2)"
        },
        {
            "cell_type": "markdown",
            "metadata": {},
            "source": "# K Nearest Neighbor(KNN)\nNotice: You should find the best k to build the model with the best accuracy.  \n**warning:** You should not use the __loan_test.csv__ for finding the best k, however, you can split your train_loan.csv into train and test to find the best __k__."
        },
        {
            "cell_type": "code",
            "execution_count": 32,
            "metadata": {},
            "outputs": [
                {
                    "data": {
                        "text/html": "<div>\n<style scoped>\n    .dataframe tbody tr th:only-of-type {\n        vertical-align: middle;\n    }\n\n    .dataframe tbody tr th {\n        vertical-align: top;\n    }\n\n    .dataframe thead th {\n        text-align: right;\n    }\n</style>\n<table border=\"1\" class=\"dataframe\">\n  <thead>\n    <tr style=\"text-align: right;\">\n      <th></th>\n      <th>Unnamed: 0</th>\n      <th>Unnamed: 0.1</th>\n      <th>loan_status</th>\n      <th>Principal</th>\n      <th>terms</th>\n      <th>effective_date</th>\n      <th>due_date</th>\n      <th>age</th>\n      <th>education</th>\n      <th>Gender</th>\n      <th>dayofweek</th>\n      <th>weekend</th>\n    </tr>\n  </thead>\n  <tbody>\n    <tr>\n      <th>0</th>\n      <td>0</td>\n      <td>0</td>\n      <td>PAIDOFF</td>\n      <td>1000</td>\n      <td>30</td>\n      <td>2016-09-08</td>\n      <td>2016-10-07</td>\n      <td>45</td>\n      <td>High School or Below</td>\n      <td>0</td>\n      <td>3</td>\n      <td>0</td>\n    </tr>\n    <tr>\n      <th>1</th>\n      <td>2</td>\n      <td>2</td>\n      <td>PAIDOFF</td>\n      <td>1000</td>\n      <td>30</td>\n      <td>2016-09-08</td>\n      <td>2016-10-07</td>\n      <td>33</td>\n      <td>Bechalor</td>\n      <td>1</td>\n      <td>3</td>\n      <td>0</td>\n    </tr>\n    <tr>\n      <th>2</th>\n      <td>3</td>\n      <td>3</td>\n      <td>PAIDOFF</td>\n      <td>1000</td>\n      <td>15</td>\n      <td>2016-09-08</td>\n      <td>2016-09-22</td>\n      <td>27</td>\n      <td>college</td>\n      <td>0</td>\n      <td>3</td>\n      <td>0</td>\n    </tr>\n    <tr>\n      <th>3</th>\n      <td>4</td>\n      <td>4</td>\n      <td>PAIDOFF</td>\n      <td>1000</td>\n      <td>30</td>\n      <td>2016-09-09</td>\n      <td>2016-10-08</td>\n      <td>28</td>\n      <td>college</td>\n      <td>1</td>\n      <td>4</td>\n      <td>1</td>\n    </tr>\n    <tr>\n      <th>4</th>\n      <td>6</td>\n      <td>6</td>\n      <td>PAIDOFF</td>\n      <td>1000</td>\n      <td>30</td>\n      <td>2016-09-09</td>\n      <td>2016-10-08</td>\n      <td>29</td>\n      <td>college</td>\n      <td>0</td>\n      <td>4</td>\n      <td>1</td>\n    </tr>\n  </tbody>\n</table>\n</div>",
                        "text/plain": "   Unnamed: 0  Unnamed: 0.1 loan_status  Principal  terms effective_date  \\\n0           0             0     PAIDOFF       1000     30     2016-09-08   \n1           2             2     PAIDOFF       1000     30     2016-09-08   \n2           3             3     PAIDOFF       1000     15     2016-09-08   \n3           4             4     PAIDOFF       1000     30     2016-09-09   \n4           6             6     PAIDOFF       1000     30     2016-09-09   \n\n    due_date  age             education  Gender  dayofweek  weekend  \n0 2016-10-07   45  High School or Below       0          3        0  \n1 2016-10-07   33              Bechalor       1          3        0  \n2 2016-09-22   27               college       0          3        0  \n3 2016-10-08   28               college       1          4        1  \n4 2016-10-08   29               college       0          4        1  "
                    },
                    "execution_count": 32,
                    "metadata": {},
                    "output_type": "execute_result"
                }
            ],
            "source": "df.head()"
        },
        {
            "cell_type": "code",
            "execution_count": 33,
            "metadata": {},
            "outputs": [],
            "source": "from sklearn.neighbors import KNeighborsClassifier as knn\nfrom sklearn.metrics import accuracy_score\n\nks = range(1, 10)\nmean_accuracy = []\n\nfor n in ks:\n    knn_model  = knn(n_neighbors = n)\n    knn_model.fit(X_train, y_train)\n    knn_yhat = knn_model.predict(X_test)\n    mean_accuracy.append(accuracy_score(y_test, knn_yhat))"
        },
        {
            "cell_type": "code",
            "execution_count": 34,
            "metadata": {},
            "outputs": [
                {
                    "name": "stdout",
                    "output_type": "stream",
                    "text": "k = 1 has a Score = 0.6428571428571429 \nk = 2 has a Score = 0.5571428571428572 \nk = 3 has a Score = 0.7 \nk = 4 has a Score = 0.6285714285714286 \nk = 5 has a Score = 0.7571428571428571 \nk = 6 has a Score = 0.6571428571428571 \nk = 7 has a Score = 0.7714285714285715 \nk = 8 has a Score = 0.7142857142857143 \nk = 9 has a Score = 0.7 \n"
                }
            ],
            "source": "for i in range(0, len(mean_accuracy)):\n    print(\"k = {} has a Score = {} \".format(i+1, mean_accuracy[i]))"
        },
        {
            "cell_type": "code",
            "execution_count": 35,
            "metadata": {},
            "outputs": [
                {
                    "data": {
                        "text/plain": "Text(0, 0.5, 'Testing Accuracy Values')"
                    },
                    "execution_count": 35,
                    "metadata": {},
                    "output_type": "execute_result"
                },
                {
                    "data": {
                        "image/png": "[encoded data removed]",
                        "text/plain": "<Figure size 432x288 with 1 Axes>"
                    },
                    "metadata": {
                        "needs_background": "light"
                    },
                    "output_type": "display_data"
                }
            ],
            "source": "# Relation between k's and their respective accuracies\n\nplt.plot(ks, mean_accuracy)\nplt.xlabel('Values of K')\nplt.ylabel('Testing Accuracy Values')"
        },
        {
            "cell_type": "code",
            "execution_count": 36,
            "metadata": {},
            "outputs": [
                {
                    "data": {
                        "text/plain": "KNeighborsClassifier(algorithm='auto', leaf_size=30, metric='minkowski',\n           metric_params=None, n_jobs=None, n_neighbors=7, p=2,\n           weights='uniform')"
                    },
                    "execution_count": 36,
                    "metadata": {},
                    "output_type": "execute_result"
                }
            ],
            "source": "\n# Final Model with best value of k\n\nknn_model = knn(n_neighbors = 7)\nknn_model.fit(X_train, y_train)\nknn_yhat = knn_model.predict(X_test)\n\nknn_model"
        },
        {
            "cell_type": "markdown",
            "metadata": {},
            "source": "# Decision Tree"
        },
        {
            "cell_type": "code",
            "execution_count": 37,
            "metadata": {},
            "outputs": [],
            "source": "# Libraries\nfrom sklearn.tree import DecisionTreeClassifier \nfrom sklearn.metrics import jaccard_similarity_score\nfrom sklearn.metrics import f1_score"
        },
        {
            "cell_type": "code",
            "execution_count": 38,
            "metadata": {},
            "outputs": [
                {
                    "name": "stderr",
                    "output_type": "stream",
                    "text": "/opt/conda/envs/Python36/lib/python3.6/site-packages/sklearn/metrics/classification.py:1143: UndefinedMetricWarning: F-score is ill-defined and being set to 0.0 in labels with no predicted samples.\n  'precision', 'predicted', average, warn_for)\n/opt/conda/envs/Python36/lib/python3.6/site-packages/sklearn/metrics/classification.py:1143: UndefinedMetricWarning: F-score is ill-defined and being set to 0.0 in labels with no predicted samples.\n  'precision', 'predicted', average, warn_for)\n"
                }
            ],
            "source": "depth_range = range(1, 10)\njaccard_similarity_score_ = []\nf1_score_ = []\n\nfor d in depth_range:\n    dt = DecisionTreeClassifier(criterion = 'gini', max_depth = d)\n    dt.fit(X_train, y_train)\n    dt_yhat = dt.predict(X_test)\n    jaccard_similarity_score_.append(jaccard_similarity_score(y_test, dt_yhat))\n    f1_score_.append(f1_score(y_test, dt_yhat, average = 'weighted'))"
        },
        {
            "cell_type": "code",
            "execution_count": 39,
            "metadata": {},
            "outputs": [
                {
                    "data": {
                        "text/html": "<div>\n<style scoped>\n    .dataframe tbody tr th:only-of-type {\n        vertical-align: middle;\n    }\n\n    .dataframe tbody tr th {\n        vertical-align: top;\n    }\n\n    .dataframe thead th {\n        text-align: right;\n    }\n</style>\n<table border=\"1\" class=\"dataframe\">\n  <thead>\n    <tr style=\"text-align: right;\">\n      <th>Evaluation Metrices</th>\n      <th>d = 1</th>\n      <th>d = 2</th>\n      <th>d = 3</th>\n      <th>d = 4</th>\n      <th>d = 5</th>\n      <th>d = 6</th>\n      <th>d = 7</th>\n      <th>d = 8</th>\n      <th>d = 9</th>\n    </tr>\n  </thead>\n  <tbody>\n    <tr>\n      <th>Jaccard</th>\n      <td>0.828571</td>\n      <td>0.828571</td>\n      <td>0.800000</td>\n      <td>0.70000</td>\n      <td>0.642857</td>\n      <td>0.671429</td>\n      <td>0.714286</td>\n      <td>0.728571</td>\n      <td>0.742857</td>\n    </tr>\n    <tr>\n      <th>F1</th>\n      <td>0.750893</td>\n      <td>0.750893</td>\n      <td>0.736508</td>\n      <td>0.69476</td>\n      <td>0.657958</td>\n      <td>0.676571</td>\n      <td>0.722768</td>\n      <td>0.740048</td>\n      <td>0.742857</td>\n    </tr>\n  </tbody>\n</table>\n</div>",
                        "text/plain": "Evaluation Metrices     d = 1     d = 2     d = 3    d = 4     d = 5  \\\nJaccard              0.828571  0.828571  0.800000  0.70000  0.642857   \nF1                   0.750893  0.750893  0.736508  0.69476  0.657958   \n\nEvaluation Metrices     d = 6     d = 7     d = 8     d = 9  \nJaccard              0.671429  0.714286  0.728571  0.742857  \nF1                   0.676571  0.722768  0.740048  0.742857  "
                    },
                    "execution_count": 39,
                    "metadata": {},
                    "output_type": "execute_result"
                }
            ],
            "source": "# Creating a df to check the best value of max_depth\n\nresult = pd.DataFrame([jaccard_similarity_score_, f1_score_], index = ['Jaccard', 'F1'], columns = ['d = 1','d = 2','d = 3','d = 4','d = 5','d = 6','d = 7','d = 8','d = 9'])\nresult.columns.name = 'Evaluation Metrices'\nresult"
        },
        {
            "cell_type": "code",
            "execution_count": 40,
            "metadata": {},
            "outputs": [
                {
                    "data": {
                        "text/plain": "DecisionTreeClassifier(class_weight=None, criterion='gini', max_depth=2,\n            max_features=None, max_leaf_nodes=None,\n            min_impurity_decrease=0.0, min_impurity_split=None,\n            min_samples_leaf=1, min_samples_split=2,\n            min_weight_fraction_leaf=0.0, presort=False, random_state=None,\n            splitter='best')"
                    },
                    "execution_count": 40,
                    "metadata": {},
                    "output_type": "execute_result"
                }
            ],
            "source": "# Main Model\n\ndt_model = DecisionTreeClassifier(criterion = 'gini', max_depth = 2)\ndt_model.fit(X_train, y_train)\ndt_model"
        },
        {
            "cell_type": "markdown",
            "metadata": {},
            "source": "# Support Vector Machine"
        },
        {
            "cell_type": "code",
            "execution_count": 41,
            "metadata": {},
            "outputs": [],
            "source": "# Libraries\n\nfrom sklearn.svm import SVC \nfrom sklearn.metrics import jaccard_similarity_score\nfrom sklearn.metrics import f1_score\n\nimport matplotlib.pyplot as plt\n%matplotlib inline"
        },
        {
            "cell_type": "code",
            "execution_count": 42,
            "metadata": {
                "scrolled": true
            },
            "outputs": [
                {
                    "name": "stderr",
                    "output_type": "stream",
                    "text": "/opt/conda/envs/Python36/lib/python3.6/site-packages/sklearn/metrics/classification.py:1143: UndefinedMetricWarning: F-score is ill-defined and being set to 0.0 in labels with no predicted samples.\n  'precision', 'predicted', average, warn_for)\n/opt/conda/envs/Python36/lib/python3.6/site-packages/sklearn/metrics/classification.py:1143: UndefinedMetricWarning: F-score is ill-defined and being set to 0.0 in labels with no predicted samples.\n  'precision', 'predicted', average, warn_for)\n/opt/conda/envs/Python36/lib/python3.6/site-packages/sklearn/metrics/classification.py:1143: UndefinedMetricWarning: F-score is ill-defined and being set to 0.0 in labels with no predicted samples.\n  'precision', 'predicted', average, warn_for)\n/opt/conda/envs/Python36/lib/python3.6/site-packages/sklearn/metrics/classification.py:1143: UndefinedMetricWarning: F-score is ill-defined and being set to 0.0 in labels with no predicted samples.\n  'precision', 'predicted', average, warn_for)\n"
                }
            ],
            "source": "kernel_func = ['sigmoid', 'poly', 'rbf', 'linear']\naccuracy_score = []\n\nfor k in kernel_func:\n    svc_model = SVC(C = 0.01, gamma = 'auto', kernel = k)\n    svc_model.fit(X_train, y_train)\n    svc_yhat = svc_model.predict(X_test)\n    accuracy_score.append(f1_score(y_test, svc_yhat, average = 'weighted'))"
        },
        {
            "cell_type": "code",
            "execution_count": 43,
            "metadata": {
                "scrolled": true
            },
            "outputs": [
                {
                    "data": {
                        "text/plain": "Text(0, 0.5, 'Accuracy')"
                    },
                    "execution_count": 43,
                    "metadata": {},
                    "output_type": "execute_result"
                },
                {
                    "data": {
                        "image/png": "[encoded data removed]",
                        "text/plain": "<Figure size 432x288 with 1 Axes>"
                    },
                    "metadata": {
                        "needs_background": "light"
                    },
                    "output_type": "display_data"
                }
            ],
            "source": "# Visualization of best kernel\n\ny_pos = np.arange(len(kernel_func))\nplt.bar(y_pos, accuracy_score, align='center', alpha = 0.8)\nplt.xticks(y_pos, kernel_func)\nplt.xlabel('Kernel Functions')\nplt.ylabel('Accuracy')"
        },
        {
            "cell_type": "code",
            "execution_count": 44,
            "metadata": {},
            "outputs": [
                {
                    "data": {
                        "text/plain": "SVC(C=0.01, cache_size=200, class_weight=None, coef0=0.0,\n  decision_function_shape='ovr', degree=3, gamma='auto', kernel='poly',\n  max_iter=-1, probability=False, random_state=None, shrinking=True,\n  tol=0.001, verbose=False)"
                    },
                    "execution_count": 44,
                    "metadata": {},
                    "output_type": "execute_result"
                }
            ],
            "source": "svc_model = SVC(C = 0.01, gamma = 'auto', kernel = 'poly')\nsvc_model.fit(X_train, y_train)\nsvc_model"
        },
        {
            "cell_type": "markdown",
            "metadata": {},
            "source": "# Logistic Regression"
        },
        {
            "cell_type": "code",
            "execution_count": 45,
            "metadata": {},
            "outputs": [],
            "source": "# Libraries\n\nfrom sklearn.linear_model import LogisticRegression \nfrom sklearn.metrics import log_loss\n\nimport matplotlib.pyplot as plt\n%matplotlib inline"
        },
        {
            "cell_type": "code",
            "execution_count": 48,
            "metadata": {},
            "outputs": [
                {
                    "name": "stdout",
                    "output_type": "stream",
                    "text": "Test 1: Accuracy at C = 0.1 when Solver = lbfgs is : 0.4343730868201016\nTest 2: Accuracy at C = 0.1 when Solver = saga is : 0.43437639294031954\nTest 3: Accuracy at C = 0.1 when Solver = liblinear is : 0.4549507341538282\nTest 4: Accuracy at C = 0.1 when Solver = newton-cg is : 0.4343727244787379\nTest 5: Accuracy at C = 0.1 when Solver = sag is : 0.4343729781444676\n\n\nTest 6: Accuracy at C = 0.01 when Solver = lbfgs is : 0.4529024775789561\nTest 7: Accuracy at C = 0.01 when Solver = saga is : 0.45290222782754264\nTest 8: Accuracy at C = 0.01 when Solver = liblinear is : 0.5596633457155464\nTest 9: Accuracy at C = 0.01 when Solver = newton-cg is : 0.4529024348154771\nTest 10: Accuracy at C = 0.01 when Solver = sag is : 0.4528887931943602\n\n\nTest 11: Accuracy at C = 0.001 when Solver = lbfgs is : 0.4787024545768455\nTest 12: Accuracy at C = 0.001 when Solver = saga is : 0.47870316758734066\nTest 13: Accuracy at C = 0.001 when Solver = liblinear is : 0.6685399066061889\nTest 14: Accuracy at C = 0.001 when Solver = newton-cg is : 0.4787024591671967\nTest 15: Accuracy at C = 0.001 when Solver = sag is : 0.47870295178108985\n\n\n"
                }
            ],
            "source": "solvers = ['lbfgs', 'saga', 'liblinear', 'newton-cg', 'sag']\nregularization_val = [0.1, 0.01, 0.001]\nindex = []\naccuracy_score = []\niterations = 0\n\nfor index1, c in enumerate(regularization_val):\n    for index2, solver in enumerate(solvers):\n        index.append(index1 + index2 *5)\n        iterations +=1\n        lr_model = LogisticRegression(C = c, solver = solver)\n        lr_model.fit(X_train, y_train)\n        lr_yhat = lr_model.predict(X_test)\n        y_prob = lr_model.predict_proba(X_test)\n        print('Test {}: Accuracy at C = {} when Solver = {} is : {}'.format(iterations, c, solver, log_loss(y_test, y_prob) ))\n        accuracy_score.append(log_loss(y_test, y_prob))\n                              \n    print('\\n')"
        },
        {
            "cell_type": "code",
            "execution_count": 49,
            "metadata": {},
            "outputs": [
                {
                    "data": {
                        "text/plain": "Text(0, 0.5, 'Testing Accuracy')"
                    },
                    "execution_count": 49,
                    "metadata": {},
                    "output_type": "execute_result"
                },
                {
                    "data": {
                        "image/png": "[encoded data removed]",
                        "text/plain": "<Figure size 432x288 with 1 Axes>"
                    },
                    "metadata": {
                        "needs_background": "light"
                    },
                    "output_type": "display_data"
                }
            ],
            "source": "\nlr_prob = lr_model.predict_proba(X_test)\nlog_loss(y_test, lr_prob)\nplt.plot(index, accuracy_score)\nplt.xlabel('Parameter Value')\nplt.ylabel('Testing Accuracy')"
        },
        {
            "cell_type": "code",
            "execution_count": 50,
            "metadata": {},
            "outputs": [
                {
                    "data": {
                        "text/plain": "LogisticRegression(C=0.001, class_weight=None, dual=False, fit_intercept=True,\n          intercept_scaling=1, max_iter=100, multi_class='warn',\n          n_jobs=None, penalty='l2', random_state=None, solver='liblinear',\n          tol=0.0001, verbose=0, warm_start=False)"
                    },
                    "execution_count": 50,
                    "metadata": {},
                    "output_type": "execute_result"
                }
            ],
            "source": "\n# Main Model\nfrom sklearn.linear_model import LogisticRegression \n\nlr_model = LogisticRegression(C = 0.001, solver = 'liblinear')\nlr_model.fit(X_train, y_train)\nlr_model"
        },
        {
            "cell_type": "markdown",
            "metadata": {},
            "source": "# Model Evaluation using Test set"
        },
        {
            "cell_type": "code",
            "execution_count": 51,
            "metadata": {},
            "outputs": [],
            "source": "from sklearn.metrics import jaccard_similarity_score\nfrom sklearn.metrics import f1_score\nfrom sklearn.metrics import log_loss"
        },
        {
            "cell_type": "markdown",
            "metadata": {},
            "source": "First, download and load the test set:"
        },
        {
            "cell_type": "code",
            "execution_count": 52,
            "metadata": {},
            "outputs": [
                {
                    "name": "stdout",
                    "output_type": "stream",
                    "text": "--2020-07-28 06:39:39--  https://s3-api.us-geo.objectstorage.softlayer.net/cf-courses-data/CognitiveClass/ML0101ENv3/labs/loan_test.csv\nResolving s3-api.us-geo.objectstorage.softlayer.net (s3-api.us-geo.objectstorage.softlayer.net)... 67.228.254.196\nConnecting to s3-api.us-geo.objectstorage.softlayer.net (s3-api.us-geo.objectstorage.softlayer.net)|67.228.254.196|:443... connected.\nHTTP request sent, awaiting response... 200 OK\nLength: 3642 (3.6K) [text/csv]\nSaving to: \u2018loan_test.csv\u2019\n\n100%[======================================>] 3,642       --.-K/s   in 0s      \n\n2020-07-28 06:39:39 (401 MB/s) - \u2018loan_test.csv\u2019 saved [3642/3642]\n\n"
                }
            ],
            "source": "!wget -O loan_test.csv https://s3-api.us-geo.objectstorage.softlayer.net/cf-courses-data/CognitiveClass/ML0101ENv3/labs/loan_test.csv"
        },
        {
            "cell_type": "markdown",
            "metadata": {
                "button": false,
                "new_sheet": false,
                "run_control": {
                    "read_only": false
                }
            },
            "source": "### Load Test set for evaluation "
        },
        {
            "cell_type": "code",
            "execution_count": 53,
            "metadata": {
                "button": false,
                "new_sheet": false,
                "run_control": {
                    "read_only": false
                }
            },
            "outputs": [
                {
                    "data": {
                        "text/html": "<div>\n<style scoped>\n    .dataframe tbody tr th:only-of-type {\n        vertical-align: middle;\n    }\n\n    .dataframe tbody tr th {\n        vertical-align: top;\n    }\n\n    .dataframe thead th {\n        text-align: right;\n    }\n</style>\n<table border=\"1\" class=\"dataframe\">\n  <thead>\n    <tr style=\"text-align: right;\">\n      <th></th>\n      <th>Unnamed: 0</th>\n      <th>Unnamed: 0.1</th>\n      <th>loan_status</th>\n      <th>Principal</th>\n      <th>terms</th>\n      <th>effective_date</th>\n      <th>due_date</th>\n      <th>age</th>\n      <th>education</th>\n      <th>Gender</th>\n    </tr>\n  </thead>\n  <tbody>\n    <tr>\n      <th>0</th>\n      <td>1</td>\n      <td>1</td>\n      <td>PAIDOFF</td>\n      <td>1000</td>\n      <td>30</td>\n      <td>9/8/2016</td>\n      <td>10/7/2016</td>\n      <td>50</td>\n      <td>Bechalor</td>\n      <td>female</td>\n    </tr>\n    <tr>\n      <th>1</th>\n      <td>5</td>\n      <td>5</td>\n      <td>PAIDOFF</td>\n      <td>300</td>\n      <td>7</td>\n      <td>9/9/2016</td>\n      <td>9/15/2016</td>\n      <td>35</td>\n      <td>Master or Above</td>\n      <td>male</td>\n    </tr>\n    <tr>\n      <th>2</th>\n      <td>21</td>\n      <td>21</td>\n      <td>PAIDOFF</td>\n      <td>1000</td>\n      <td>30</td>\n      <td>9/10/2016</td>\n      <td>10/9/2016</td>\n      <td>43</td>\n      <td>High School or Below</td>\n      <td>female</td>\n    </tr>\n    <tr>\n      <th>3</th>\n      <td>24</td>\n      <td>24</td>\n      <td>PAIDOFF</td>\n      <td>1000</td>\n      <td>30</td>\n      <td>9/10/2016</td>\n      <td>10/9/2016</td>\n      <td>26</td>\n      <td>college</td>\n      <td>male</td>\n    </tr>\n    <tr>\n      <th>4</th>\n      <td>35</td>\n      <td>35</td>\n      <td>PAIDOFF</td>\n      <td>800</td>\n      <td>15</td>\n      <td>9/11/2016</td>\n      <td>9/25/2016</td>\n      <td>29</td>\n      <td>Bechalor</td>\n      <td>male</td>\n    </tr>\n  </tbody>\n</table>\n</div>",
                        "text/plain": "   Unnamed: 0  Unnamed: 0.1 loan_status  Principal  terms effective_date  \\\n0           1             1     PAIDOFF       1000     30       9/8/2016   \n1           5             5     PAIDOFF        300      7       9/9/2016   \n2          21            21     PAIDOFF       1000     30      9/10/2016   \n3          24            24     PAIDOFF       1000     30      9/10/2016   \n4          35            35     PAIDOFF        800     15      9/11/2016   \n\n    due_date  age             education  Gender  \n0  10/7/2016   50              Bechalor  female  \n1  9/15/2016   35       Master or Above    male  \n2  10/9/2016   43  High School or Below  female  \n3  10/9/2016   26               college    male  \n4  9/25/2016   29              Bechalor    male  "
                    },
                    "execution_count": 53,
                    "metadata": {},
                    "output_type": "execute_result"
                }
            ],
            "source": "test_df = pd.read_csv('loan_test.csv')\ntest_df.head()"
        },
        {
            "cell_type": "code",
            "execution_count": 54,
            "metadata": {},
            "outputs": [
                {
                    "data": {
                        "text/html": "<div>\n<style scoped>\n    .dataframe tbody tr th:only-of-type {\n        vertical-align: middle;\n    }\n\n    .dataframe tbody tr th {\n        vertical-align: top;\n    }\n\n    .dataframe thead th {\n        text-align: right;\n    }\n</style>\n<table border=\"1\" class=\"dataframe\">\n  <thead>\n    <tr style=\"text-align: right;\">\n      <th></th>\n      <th>Unnamed: 0</th>\n      <th>Unnamed: 0.1</th>\n      <th>loan_status</th>\n      <th>Principal</th>\n      <th>terms</th>\n      <th>effective_date</th>\n      <th>due_date</th>\n      <th>age</th>\n      <th>education</th>\n      <th>Gender</th>\n    </tr>\n  </thead>\n  <tbody>\n    <tr>\n      <th>0</th>\n      <td>1</td>\n      <td>1</td>\n      <td>PAIDOFF</td>\n      <td>1000</td>\n      <td>30</td>\n      <td>9/8/2016</td>\n      <td>10/7/2016</td>\n      <td>50</td>\n      <td>Bechalor</td>\n      <td>female</td>\n    </tr>\n    <tr>\n      <th>1</th>\n      <td>5</td>\n      <td>5</td>\n      <td>PAIDOFF</td>\n      <td>300</td>\n      <td>7</td>\n      <td>9/9/2016</td>\n      <td>9/15/2016</td>\n      <td>35</td>\n      <td>Master or Above</td>\n      <td>male</td>\n    </tr>\n    <tr>\n      <th>2</th>\n      <td>21</td>\n      <td>21</td>\n      <td>PAIDOFF</td>\n      <td>1000</td>\n      <td>30</td>\n      <td>9/10/2016</td>\n      <td>10/9/2016</td>\n      <td>43</td>\n      <td>High School or Below</td>\n      <td>female</td>\n    </tr>\n    <tr>\n      <th>3</th>\n      <td>24</td>\n      <td>24</td>\n      <td>PAIDOFF</td>\n      <td>1000</td>\n      <td>30</td>\n      <td>9/10/2016</td>\n      <td>10/9/2016</td>\n      <td>26</td>\n      <td>college</td>\n      <td>male</td>\n    </tr>\n    <tr>\n      <th>4</th>\n      <td>35</td>\n      <td>35</td>\n      <td>PAIDOFF</td>\n      <td>800</td>\n      <td>15</td>\n      <td>9/11/2016</td>\n      <td>9/25/2016</td>\n      <td>29</td>\n      <td>Bechalor</td>\n      <td>male</td>\n    </tr>\n  </tbody>\n</table>\n</div>",
                        "text/plain": "   Unnamed: 0  Unnamed: 0.1 loan_status  Principal  terms effective_date  \\\n0           1             1     PAIDOFF       1000     30       9/8/2016   \n1           5             5     PAIDOFF        300      7       9/9/2016   \n2          21            21     PAIDOFF       1000     30      9/10/2016   \n3          24            24     PAIDOFF       1000     30      9/10/2016   \n4          35            35     PAIDOFF        800     15      9/11/2016   \n\n    due_date  age             education  Gender  \n0  10/7/2016   50              Bechalor  female  \n1  9/15/2016   35       Master or Above    male  \n2  10/9/2016   43  High School or Below  female  \n3  10/9/2016   26               college    male  \n4  9/25/2016   29              Bechalor    male  "
                    },
                    "execution_count": 54,
                    "metadata": {},
                    "output_type": "execute_result"
                }
            ],
            "source": "test_df = pd.read_csv('loan_test.csv')\ntest_df.head()"
        },
        {
            "cell_type": "code",
            "execution_count": 55,
            "metadata": {},
            "outputs": [
                {
                    "name": "stderr",
                    "output_type": "stream",
                    "text": "/opt/conda/envs/Python36/lib/python3.6/site-packages/sklearn/preprocessing/data.py:645: DataConversionWarning: Data with input dtype uint8, int64 were all converted to float64 by StandardScaler.\n  return self.partial_fit(X, y)\n/opt/conda/envs/Python36/lib/python3.6/site-packages/ipykernel/__main__.py:17: DataConversionWarning: Data with input dtype uint8, int64 were all converted to float64 by StandardScaler.\n"
                }
            ],
            "source": "test_df['due_date'] = pd.to_datetime(test_df['due_date'])\ntest_df['effective_date'] = pd.to_datetime(test_df['effective_date'])\ntest_df['dayofweek'] = test_df['effective_date'].dt.dayofweek\n\ntest_df['weekend'] = test_df['dayofweek'].apply(lambda x: 1 if (x>3)  else 0)\n\ntest_df['Gender'].replace(to_replace=['male','female'], value=[0,1],inplace=True)\n\ntest_feature = test_df[['Principal','terms','age','Gender','weekend']]\ntest_feature = pd.concat([test_feature,pd.get_dummies(test_df['education'])], axis=1)\ntest_feature.drop(['Master or Above'], axis = 1,inplace=True)\n\n# Testing feature\nX_loan_test = test_feature\n\n# Normalizing Test Data\nX_loan_test = preprocessing.StandardScaler().fit(X_loan_test).transform(X_loan_test)\n\n# Target result\ny_loan_test = test_df['loan_status'].values"
        },
        {
            "cell_type": "code",
            "execution_count": 56,
            "metadata": {
                "scrolled": true
            },
            "outputs": [
                {
                    "name": "stdout",
                    "output_type": "stream",
                    "text": "[[ 0.49362588  0.92844966  3.05981865  1.97714211 -1.30384048  2.39791576\n  -0.79772404 -0.86135677]\n [-3.56269116 -1.70427745  0.53336288 -0.50578054  0.76696499 -0.41702883\n  -0.79772404 -0.86135677]\n [ 0.49362588  0.92844966  1.88080596  1.97714211  0.76696499 -0.41702883\n   1.25356634 -0.86135677]\n [ 0.49362588  0.92844966 -0.98251057 -0.50578054  0.76696499 -0.41702883\n  -0.79772404  1.16095912]\n [-0.66532184 -0.78854628 -0.47721942 -0.50578054  0.76696499  2.39791576\n  -0.79772404 -0.86135677]]\n(54, 8)\n['PAIDOFF' 'PAIDOFF' 'PAIDOFF' 'PAIDOFF' 'PAIDOFF']\n(54,)\n"
                }
            ],
            "source": "print (X_loan_test[0:5])\nprint (X_loan_test.shape)\n\nprint (y_loan_test[0:5])\nprint (y_loan_test.shape)\n"
        },
        {
            "cell_type": "code",
            "execution_count": 57,
            "metadata": {},
            "outputs": [
                {
                    "data": {
                        "text/plain": "[0.72, 0.74, 0.74, 0.78]"
                    },
                    "execution_count": 57,
                    "metadata": {},
                    "output_type": "execute_result"
                }
            ],
            "source": "# Jaccard\nfrom sklearn.metrics import jaccard_similarity_score\n\n# KNN\nknn_yhat = knn_model.predict(X_loan_test)\njss1 = round(jaccard_similarity_score(y_loan_test, knn_yhat), 2)\n\n# Decision Tree\ndt_yhat = dt_model.predict(X_loan_test)\njss2 = round(jaccard_similarity_score(y_loan_test, dt_yhat), 2)\n\n# Support Vector Machine\nsvc_yhat = svc_model.predict(X_loan_test)\njss3 = round(jaccard_similarity_score(y_loan_test, svc_yhat), 2)\n\n# Logistic Regression\nlr_yhat = lr_model.predict(X_loan_test)\njss4 = round(jaccard_similarity_score(y_loan_test, lr_yhat), 2)\n\njss_list = [jss1, jss2, jss3, jss4]\njss_list"
        },
        {
            "cell_type": "code",
            "execution_count": 58,
            "metadata": {},
            "outputs": [
                {
                    "name": "stderr",
                    "output_type": "stream",
                    "text": "/opt/conda/envs/Python36/lib/python3.6/site-packages/sklearn/metrics/classification.py:1143: UndefinedMetricWarning: F-score is ill-defined and being set to 0.0 in labels with no predicted samples.\n  'precision', 'predicted', average, warn_for)\n/opt/conda/envs/Python36/lib/python3.6/site-packages/sklearn/metrics/classification.py:1143: UndefinedMetricWarning: F-score is ill-defined and being set to 0.0 in labels with no predicted samples.\n  'precision', 'predicted', average, warn_for)\n"
                },
                {
                    "data": {
                        "text/plain": "[0.71, 0.63, 0.63, 0.76]"
                    },
                    "execution_count": 58,
                    "metadata": {},
                    "output_type": "execute_result"
                }
            ],
            "source": "from sklearn.metrics import f1_score\n\n# KNN\nknn_yhat = knn_model.predict(X_loan_test)\nf1 = round(f1_score(y_loan_test, knn_yhat, average = 'weighted'), 2)\n\n# Decision Tree\ndt_yhat = dt_model.predict(X_loan_test)\nf2 = round(f1_score(y_loan_test, dt_yhat, average = 'weighted'), 2)\n\n# Support Vector Machine\nsvc_yhat = svc_model.predict(X_loan_test)\nf3 = round(f1_score(y_loan_test, svc_yhat, average = 'weighted'), 2)\n\n# Logistic Regression\nlr_yhat = lr_model.predict(X_loan_test)\nf4 = round(f1_score(y_loan_test, lr_yhat, average = 'weighted'), 2)\n\nf1_list = [f1, f2, f3, f4]\nf1_list"
        },
        {
            "cell_type": "code",
            "execution_count": 59,
            "metadata": {},
            "outputs": [
                {
                    "data": {
                        "text/plain": "['NA', 'NA', 'NA', 0.67]"
                    },
                    "execution_count": 59,
                    "metadata": {},
                    "output_type": "execute_result"
                }
            ],
            "source": "from sklearn.metrics import log_loss\n\n# Logistic Regression\nlr_prob = lr_model.predict_proba(X_loan_test)\nll_list = ['NA','NA','NA', round(log_loss(y_loan_test, lr_prob), 2)]\nll_list"
        },
        {
            "cell_type": "code",
            "execution_count": 60,
            "metadata": {},
            "outputs": [],
            "source": "columns = ['KNN', 'Decision Tree', 'SVM', 'Logistic Regression']\nindex = ['Jaccard', 'F1-score', 'Logloss']"
        },
        {
            "cell_type": "code",
            "execution_count": 61,
            "metadata": {},
            "outputs": [],
            "source": "accuracy_df = pd.DataFrame([jss_list, f1_list, ll_list], index = index, columns = columns)"
        },
        {
            "cell_type": "code",
            "execution_count": 62,
            "metadata": {},
            "outputs": [
                {
                    "data": {
                        "text/html": "<div>\n<style scoped>\n    .dataframe tbody tr th:only-of-type {\n        vertical-align: middle;\n    }\n\n    .dataframe tbody tr th {\n        vertical-align: top;\n    }\n\n    .dataframe thead th {\n        text-align: right;\n    }\n</style>\n<table border=\"1\" class=\"dataframe\">\n  <thead>\n    <tr style=\"text-align: right;\">\n      <th>Algorithm</th>\n      <th>Jaccard</th>\n      <th>F1-score</th>\n      <th>Logloss</th>\n    </tr>\n  </thead>\n  <tbody>\n    <tr>\n      <th>KNN</th>\n      <td>0.72</td>\n      <td>0.71</td>\n      <td>NA</td>\n    </tr>\n    <tr>\n      <th>Decision Tree</th>\n      <td>0.74</td>\n      <td>0.63</td>\n      <td>NA</td>\n    </tr>\n    <tr>\n      <th>SVM</th>\n      <td>0.74</td>\n      <td>0.63</td>\n      <td>NA</td>\n    </tr>\n    <tr>\n      <th>Logistic Regression</th>\n      <td>0.78</td>\n      <td>0.76</td>\n      <td>0.67</td>\n    </tr>\n  </tbody>\n</table>\n</div>",
                        "text/plain": "Algorithm           Jaccard F1-score Logloss\nKNN                    0.72     0.71      NA\nDecision Tree          0.74     0.63      NA\nSVM                    0.74     0.63      NA\nLogistic Regression    0.78     0.76    0.67"
                    },
                    "execution_count": 62,
                    "metadata": {},
                    "output_type": "execute_result"
                }
            ],
            "source": "accuracy_df1 = accuracy_df.transpose()\naccuracy_df1.columns.name = 'Algorithm'\naccuracy_df1"
        },
        {
            "cell_type": "markdown",
            "metadata": {},
            "source": "# Report\nYou should be able to report the accuracy of the built model using different evaluation metrics:"
        },
        {
            "cell_type": "markdown",
            "metadata": {
                "button": false,
                "new_sheet": false,
                "run_control": {
                    "read_only": false
                }
            },
            "source": "<h2>Want to learn more?</h2>\n\nIBM SPSS Modeler is a comprehensive analytics platform that has many machine learning algorithms. It has been designed to bring predictive intelligence to decisions made by individuals, by groups, by systems \u2013 by your enterprise as a whole. A free trial is available through this course, available here: <a href=\"http://cocl.us/ML0101EN-SPSSModeler\">SPSS Modeler</a>\n\nAlso, you can use Watson Studio to run these notebooks faster with bigger datasets. Watson Studio is IBM's leading cloud solution for data scientists, built by data scientists. With Jupyter notebooks, RStudio, Apache Spark and popular libraries pre-packaged in the cloud, Watson Studio enables data scientists to collaborate on their projects without having to install anything. Join the fast-growing community of Watson Studio users today with a free account at <a href=\"https://cocl.us/ML0101EN_DSX\">Watson Studio</a>\n\n<h3>Thanks for completing this lesson!</h3>\n\n<h4>Author:  <a href=\"https://ca.linkedin.com/in/saeedaghabozorgi\">Saeed Aghabozorgi</a></h4>\n<p><a href=\"https://ca.linkedin.com/in/saeedaghabozorgi\">Saeed Aghabozorgi</a>, PhD is a Data Scientist in IBM with a track record of developing enterprise level applications that substantially increases clients\u2019 ability to turn data into actionable knowledge. He is a researcher in data mining field and expert in developing advanced analytic methods like machine learning and statistical modelling on large datasets.</p>\n\n<hr>\n\n<p>Copyright &copy; 2018 <a href=\"https://cocl.us/DX0108EN_CC\">Cognitive Class</a>. This notebook and its source code are released under the terms of the <a href=\"https://bigdatauniversity.com/mit-license/\">MIT License</a>.</p>"
        }
    ],
    "metadata": {
        "kernelspec": {
            "display_name": "Python 3.6",
            "language": "python",
            "name": "python3"
        },
        "language_info": {
            "codemirror_mode": {
                "name": "ipython",
                "version": 3
            },
            "file_extension": ".py",
            "mimetype": "text/x-python",
            "name": "python",
            "nbconvert_exporter": "python",
            "pygments_lexer": "ipython3",
            "version": "3.6.9"
        }
    },
    "nbformat": 4,
    "nbformat_minor": 2
}